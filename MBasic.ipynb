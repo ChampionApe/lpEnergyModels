{
 "cells": [
  {
   "cell_type": "code",
   "execution_count": 1,
   "id": "33b4644f",
   "metadata": {},
   "outputs": [],
   "source": [
    "import os, numpy as np, scipy, pandas as pd\n",
    "from lpEnergyModels.mBasic import *\n",
    "import warnings\n",
    "warnings.simplefilter(action='ignore', category=FutureWarning)"
   ]
  },
  {
   "cell_type": "markdown",
   "id": "18f6ca9a",
   "metadata": {},
   "source": [
    "# MBasic class"
   ]
  },
  {
   "cell_type": "markdown",
   "id": "959553d3",
   "metadata": {},
   "source": [
    "The model is a very simple power system model that is defined over four indices:\n",
    "* ```idxGen```: Set of electricity generators.\n",
    "* ```idxF```: Set of fuel types that generators may use.\n",
    "* ```idxEm```: Set of emission types included in the model.\n",
    "* ```idxCons```: Set of consumers in the power market.\n",
    "\n",
    "\n",
    "The model requires the following data to run:\n",
    "* ```pFuel(idxF)```: Fuel price. Default unit: €/GJ.\n",
    "* ```uEm(idxF, idxEm)```: Emission intensity. Default unit: Ton emission/GJ fuel input. \n",
    "* ```VOM(idxGen)```: variable operating and maintenance costs. Default unit: €/GJ output.\n",
    "* ```uFuel(idxF, idxGen)```: Fuelmix. Default unit: GJ input/GJ output.\n",
    "* ```taxEm(idxEm)```: Tax on emissions. Default unit: €/ton emission output.\n",
    "* ```genCap(idxGen)```: Generating capacity. Default unit: GJ/hour.\n",
    "* ```mwp(idxCons)```: Marginal willingness to pay for consumers. Default unit: €/GJ. \n",
    "* ```load(idxCons)```: Total demand for consumers if the price does not exceed their marginal willingness to pay. Default unit: GJ."
   ]
  },
  {
   "cell_type": "code",
   "execution_count": 2,
   "id": "107429bb-11a6-4464-acdc-6c173809f0dd",
   "metadata": {},
   "outputs": [],
   "source": [
    "testData = os.path.join(os.getcwd(), 'data','EX_MBasic.xlsx')\n",
    "data = ExcelSymbolLoader(testData)() # read data in a dict \n",
    "m = MBasic() # initialize model\n",
    "[m.db.__setitem__(k, v) for k,v in data.items() if k!='__meta__']; # add data to model database"
   ]
  },
  {
   "cell_type": "markdown",
   "id": "06b70d54-ce3d-47ae-b0b2-a43b3d6e3f5a",
   "metadata": {},
   "source": [
    "*Test run:*"
   ]
  },
  {
   "cell_type": "code",
   "execution_count": 3,
   "id": "266be6a6-3752-44ca-bf92-d7a547514b9b",
   "metadata": {},
   "outputs": [],
   "source": [
    "m.compile() # set up model structure\n",
    "sol = m.solve() # return solution\n",
    "solDict = m.postSolve(sol) # run through postSolve routine"
   ]
  },
  {
   "cell_type": "markdown",
   "id": "97f2485a-851e-4591-b73a-e8ac494ab975",
   "metadata": {},
   "source": [
    "## Different ways of running shocks in the model"
   ]
  },
  {
   "cell_type": "markdown",
   "id": "219df5d1-0c95-4df0-a559-5e2550521f08",
   "metadata": {},
   "source": [
    "### A. Manual looping:  Adjust final coefficients in ```self.sys.out```."
   ]
  },
  {
   "cell_type": "markdown",
   "id": "9e1ce7c6-6602-44bd-8956-a6ebbe4dd093",
   "metadata": {},
   "source": [
    "The most efficient way (in terms of minimizing compilation time) is to adjust coefficients directly in the ```self.sys.out``` dictionary that is ultimately passed to the solver. This may, however, also be a bit cumbersome work. Let us for instance solve the model on a grid of carbon taxes:"
   ]
  },
  {
   "cell_type": "markdown",
   "id": "c3b558ee-f9f8-46f9-b7f9-28522da8dc8a",
   "metadata": {},
   "source": [
    "Define grid of taxes:"
   ]
  },
  {
   "cell_type": "code",
   "execution_count": 4,
   "id": "4d068711-e75a-45d2-94bb-a9780253e10d",
   "metadata": {},
   "outputs": [],
   "source": [
    "name = 'taxEm'\n",
    "v0 = pd.Series(0, index = m.db(name).index) # lower part of grid\n",
    "vT = m.db(name) # upper part.\n",
    "idxLoop = pd.Index(range(5), name = 'idxLoop')\n",
    "grid = adjMultiIndex.addGrid(v0, vT, idxLoop,name)"
   ]
  },
  {
   "cell_type": "markdown",
   "id": "ebf5dec4-d964-4850-9ce4-6a5246e38634",
   "metadata": {},
   "source": [
    "Compute new marginal costs defined over the same grid:"
   ]
  },
  {
   "cell_type": "code",
   "execution_count": 5,
   "id": "9089120b-8a08-4f1e-b8bd-af60eada928a",
   "metadata": {},
   "outputs": [],
   "source": [
    "dfMC = pd.DataFrame(None, columns = idxLoop, index = m.db('mc').index)\n",
    "for l in idxLoop:\n",
    "    dfMC.loc[:,l] = mc(m.db('uFuel'), m.db('VOM'), m.db('pFuel'), m.db('uEm'), grid.xs(l))"
   ]
  },
  {
   "cell_type": "markdown",
   "id": "46edf7ac-1710-41a4-844a-fdd515d09019",
   "metadata": {},
   "source": [
    "Identify part of global variable index to adjust:"
   ]
  },
  {
   "cell_type": "code",
   "execution_count": 6,
   "id": "67901703-8dc4-4498-9587-4256f9fa1df9",
   "metadata": {},
   "outputs": [],
   "source": [
    "vIdx = m.sys.maps['v']['generation'][dfMC.index].values"
   ]
  },
  {
   "cell_type": "markdown",
   "id": "2aa22f41-f115-4b6a-a429-953a896d299e",
   "metadata": {},
   "source": [
    "Now, we can return a dictionary of solutions for each step in the loop:"
   ]
  },
  {
   "cell_type": "code",
   "execution_count": 7,
   "id": "c2e1a815-ec54-43ba-ad11-f30b486756ca",
   "metadata": {},
   "outputs": [],
   "source": [
    "solsLoop = dict.fromkeys(idxLoop)\n",
    "for l in idxLoop:\n",
    "    m.sys.out['c'][vIdx] = dfMC[l].values # update relevant coefficients in the 'c' vector\n",
    "    solsLoop[l] = m.postSolve(m.solve())"
   ]
  },
  {
   "cell_type": "markdown",
   "id": "55a70fda-0aeb-4ee1-af0f-a24dacbfef5a",
   "metadata": {},
   "source": [
    "We can turn this into a dictionary of frames instead using:"
   ]
  },
  {
   "cell_type": "code",
   "execution_count": 8,
   "id": "18f47342-6692-4e9a-a133-cb91bc1208d5",
   "metadata": {},
   "outputs": [],
   "source": [
    "solsDF = loopUnpackToDFs(solsLoop, idxLoop)"
   ]
  },
  {
   "cell_type": "markdown",
   "id": "f80029fc-a727-40d1-b4b2-9ee6fc5eb4e3",
   "metadata": {},
   "source": [
    "### B. Standard loop"
   ]
  },
  {
   "cell_type": "markdown",
   "id": "2c8aa239-a229-4e8f-a603-63ffb7486540",
   "metadata": {},
   "source": [
    "To do: Introduce a \"standard\" loop that in each iteration:\n",
    "1. Starts with update in a given parameter value in the database,\n",
    "2. runs through a specified list of methods (this should be specified for each specific loop),\n",
    "3. solves,\n",
    "4. runs through a specified list of post solution routines (the default should be to simply run the postSolve method).\n",
    "\n",
    "This would save a dictionary of solutions. In the case from above we would do the following:"
   ]
  },
  {
   "cell_type": "code",
   "execution_count": 9,
   "id": "93455eab-3111-4411-b8d9-aaf31f56d483",
   "metadata": {},
   "outputs": [],
   "source": [
    "l = idxLoop[0] # start an iteration"
   ]
  },
  {
   "cell_type": "markdown",
   "id": "8f32fd9d-390d-4f11-aba9-184f72cf09d4",
   "metadata": {},
   "source": [
    "*Step 1: Standard update from grid.*"
   ]
  },
  {
   "cell_type": "code",
   "execution_count": 10,
   "id": "214364bd-62ff-455a-a0a4-cfd25a1dce03",
   "metadata": {},
   "outputs": [],
   "source": [
    "m.db.aom(grid.xs(l), name = grid.name)"
   ]
  },
  {
   "cell_type": "markdown",
   "id": "d5bdeb49-1cf1-4c56-adc5-188b496fc2e2",
   "metadata": {},
   "source": [
    "*Step 2: Define function that runs through specified methods*"
   ]
  },
  {
   "cell_type": "code",
   "execution_count": 11,
   "id": "6dd6f455-a9d0-4306-8609-04ece5d5eb49",
   "metadata": {},
   "outputs": [],
   "source": [
    "m.updateAux() # update mc parameter\n",
    "m.initArgsV_generation() # update data on generation\n",
    "m.sys.out['c'] = m.sys.dense_c() # update 'c' vector"
   ]
  },
  {
   "cell_type": "markdown",
   "id": "8d35fcdb-ee68-423a-bb50-d5b8f770ddfc",
   "metadata": {},
   "source": [
    "*Step 3: Solve.*"
   ]
  },
  {
   "cell_type": "code",
   "execution_count": 12,
   "id": "e4b4732d-7531-428b-95b7-e9ba98655f00",
   "metadata": {},
   "outputs": [],
   "source": [
    "sol =m.solve()"
   ]
  },
  {
   "cell_type": "markdown",
   "id": "26f52e7a-e97e-4ca5-a23d-f82a98277d67",
   "metadata": {},
   "source": [
    "*Step 4. post solve routine:*"
   ]
  },
  {
   "cell_type": "code",
   "execution_count": 13,
   "id": "7e17f230-2fee-460e-88be-b830462e453c",
   "metadata": {},
   "outputs": [],
   "source": [
    "solsLoop[l] = m.postSolve(sol)"
   ]
  },
  {
   "cell_type": "markdown",
   "id": "588222aa-a3a4-42b3-a586-12d1317b7dea",
   "metadata": {},
   "source": [
    "### C. Lazy loop."
   ]
  },
  {
   "cell_type": "markdown",
   "id": "f9b08879-28f7-4665-a40f-57ae92d1fb5c",
   "metadata": {},
   "source": [
    "Lazy loop: (1) Update database values from grid, (2) compile model again from scratch, (3) solve, (4) save post-solve routine to dict. This does exactly that:"
   ]
  },
  {
   "cell_type": "code",
   "execution_count": 14,
   "id": "825f4b70-5e3a-45a9-b79c-9862a7c6e5a6",
   "metadata": {},
   "outputs": [],
   "source": [
    "solsDF = m.lazyLoopAsDFs(grid, idxLoop)"
   ]
  },
  {
   "cell_type": "markdown",
   "id": "afc71835-53b8-40dc-930f-b73a46573f99",
   "metadata": {},
   "source": [
    "When the model is relatively small, it pays to be lazy:"
   ]
  },
  {
   "cell_type": "markdown",
   "id": "370e6b51-4b6f-407d-b1d6-dcfef5e32751",
   "metadata": {},
   "source": [
    "*Lazy solution time:*"
   ]
  },
  {
   "cell_type": "code",
   "execution_count": 15,
   "id": "3a314465-9752-4747-bc47-81ebae6f710a",
   "metadata": {},
   "outputs": [
    {
     "name": "stdout",
     "output_type": "stream",
     "text": [
      "CPU times: total: 46.9 ms\n",
      "Wall time: 44.2 ms\n"
     ]
    }
   ],
   "source": [
    "%%time\n",
    "solsDF = m.lazyLoopAsDFs(grid, idxLoop)"
   ]
  },
  {
   "cell_type": "markdown",
   "id": "9725a261-00e2-43d9-b16f-38be5e749836",
   "metadata": {},
   "source": [
    "*Solution time avoiding compilation stage:*"
   ]
  },
  {
   "cell_type": "code",
   "execution_count": 16,
   "id": "4a0d68fd-0f5f-4264-b572-f932349a9cbc",
   "metadata": {},
   "outputs": [
    {
     "name": "stdout",
     "output_type": "stream",
     "text": [
      "CPU times: total: 31.2 ms\n",
      "Wall time: 24.9 ms\n"
     ]
    }
   ],
   "source": [
    "%%time\n",
    "def fastLoop_l(m,l):\n",
    "    m.sys.out['c'][vIdx] = dfMC[l].values \n",
    "    return m.postSolve(m.solve())\n",
    "solsDF = loopUnpackToDFs({l: fastLoop_l(m, l) for l in idxLoop})"
   ]
  },
  {
   "cell_type": "markdown",
   "id": "53191318-d9bb-4c81-98ae-e49effee64c7",
   "metadata": {},
   "source": [
    "## Extension with emission cap"
   ]
  },
  {
   "cell_type": "markdown",
   "id": "3c569cc0-1a54-4508-959e-1e87a60e9637",
   "metadata": {},
   "source": [
    "Initialize model:"
   ]
  },
  {
   "cell_type": "code",
   "execution_count": 17,
   "id": "249bb054-8c96-4295-a40d-f79355ae7f13",
   "metadata": {},
   "outputs": [],
   "source": [
    "mEmCap = MBasicEmCap(db = m.db) # initialize model, use model database from above"
   ]
  },
  {
   "cell_type": "markdown",
   "id": "7a4a2097-4dab-4a73-8495-0d5e28075baf",
   "metadata": {},
   "source": [
    "Cap emissions at 50% of baseline levels:"
   ]
  },
  {
   "cell_type": "code",
   "execution_count": 18,
   "id": "a6032a2e-a125-4143-8ad2-9fa3f2cdd7f0",
   "metadata": {},
   "outputs": [],
   "source": [
    "mEmCap.db['emCap'] = .5 * solDict['emissions']"
   ]
  },
  {
   "cell_type": "markdown",
   "id": "90072004-d8ed-441f-813d-efaf3e626bb9",
   "metadata": {},
   "source": [
    "Solve:"
   ]
  },
  {
   "cell_type": "code",
   "execution_count": 19,
   "id": "f0724d17-c0be-40de-b1e9-6b5be06d7f7a",
   "metadata": {},
   "outputs": [],
   "source": [
    "mEmCap.compile() # set up model structure\n",
    "sol = mEmCap.solve() # return solution\n",
    "solDict = mEmCap.postSolve(sol) # run through postSolve routine"
   ]
  },
  {
   "cell_type": "markdown",
   "id": "23a055d6-fbc9-43dd-a101-33e90b08e0dd",
   "metadata": {},
   "source": [
    "## Extension with target for renewable energy share"
   ]
  },
  {
   "cell_type": "code",
   "execution_count": 20,
   "id": "88598060-0cc2-4ef5-998a-bc20ef87e27a",
   "metadata": {},
   "outputs": [],
   "source": [
    "mRES = MBasicRES(db = m.db)"
   ]
  },
  {
   "cell_type": "markdown",
   "id": "77eb8004-907b-44ec-9015-fd2ca751330d",
   "metadata": {},
   "source": [
    "Add target for share of renewables:"
   ]
  },
  {
   "cell_type": "code",
   "execution_count": 21,
   "id": "e5c2f128-006c-4880-b595-d84db8d2b28c",
   "metadata": {},
   "outputs": [],
   "source": [
    "mRES.db['RESCap'] = .5"
   ]
  },
  {
   "cell_type": "markdown",
   "id": "ce480e06-258e-405a-820d-6c1748989fd6",
   "metadata": {},
   "source": [
    "Solve:"
   ]
  },
  {
   "cell_type": "code",
   "execution_count": 22,
   "id": "21c5893e-beda-4b72-82c6-bcedfaff044f",
   "metadata": {},
   "outputs": [],
   "source": [
    "mRES.compile() # set up model structure\n",
    "sol = mRES.solve() # return solution\n",
    "solDict = mRES.postSolve(sol) # run through postSolve routine"
   ]
  }
 ],
 "metadata": {
  "kernelspec": {
   "display_name": "Python 3 (ipykernel)",
   "language": "python",
   "name": "python3"
  },
  "language_info": {
   "codemirror_mode": {
    "name": "ipython",
    "version": 3
   },
   "file_extension": ".py",
   "mimetype": "text/x-python",
   "name": "python",
   "nbconvert_exporter": "python",
   "pygments_lexer": "ipython3",
   "version": "3.13.5"
  }
 },
 "nbformat": 4,
 "nbformat_minor": 5
}
