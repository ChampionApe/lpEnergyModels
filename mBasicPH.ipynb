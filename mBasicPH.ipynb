{
 "cells": [
  {
   "cell_type": "code",
   "execution_count": 1,
   "id": "101260a2-3c52-4771-9a21-284163690f4b",
   "metadata": {},
   "outputs": [],
   "source": [
    "import os, numpy as np, scipy, pandas as pd\n",
    "from lpEnergyModels.mBasicInt import *\n",
    "import warnings\n",
    "warnings.simplefilter(action='ignore', category=FutureWarning)"
   ]
  },
  {
   "cell_type": "markdown",
   "id": "9451f864-d133-4978-b7ec-9f852a2a50bd",
   "metadata": {},
   "source": [
    "# MBasicPH class"
   ]
  },
  {
   "cell_type": "markdown",
   "id": "a850a607-1960-4346-83bc-04cdd47258c3",
   "metadata": {},
   "source": [
    "The model extends the ```MBasicInt``` model in the following ways:\n",
    "* **Power and heat markets**: We model power and heat markets with explicit equilibrium constraints in all hours of the model. We introduce this distinction by adding new symbol names rather than introduce a new \"market\" index. We do this because characteristics of the different energy markets differ quite a lot; thus, the advantage of being able to apply some methods to all energy markets is limited. \n",
    "* **Geography**: Generators and consumers may engage in more than one energy market, but they are tied to unique geographic locations. We have separate geographic indices, ```idxGE``` and ```idxGH```, for electricity and heat respectively.\n",
    "* **Trade**: To model trade between geographic areas, we specify trade lines ```idxTrL``` index to indicate trade lines (or transmission lines) between areas. Currently, these are only used for electricity markets (district heat is not traded across significant geographic areas in the same way).\n",
    "* **Plant types:** In MBasicInt the only difference between generators were captured by different parameter values (capacity, costs, variation in productivity). In this model, we introduce different types using an index ```idxPT``` to distinguish between four dominant different types: Standard electricity producing plants (```'stdE'```), standard heat producing plants (```'stdH'```), combined heat and power plants (```'CHP'```), and heat pumper (```'HP'```). This categorical distinction is used to make model generation easier and is identified using a mapping ```idxGen2PT``` (generatior idx maps to unique plant type). "
   ]
  },
  {
   "cell_type": "markdown",
   "id": "2ade174d",
   "metadata": {},
   "source": [
    "#### **A. Sets:**"
   ]
  },
  {
   "cell_type": "markdown",
   "id": "b40bdd32",
   "metadata": {},
   "source": [
    "The model relies on the same sets as the *MBasicInt* model, adjusts some of the sets (to include both heat and electricity variants) and adds new.\n",
    "\n",
    "*From MBasicInt*\n",
    "* ```idxF```: Set of fuel types that generators may use.\n",
    "* ```idxEm```: Set of emission types included in the model.\n",
    "* ```idxHr```: Set of short run states (hours)."
   ]
  },
  {
   "cell_type": "markdown",
   "id": "2b655ac7",
   "metadata": {},
   "source": [
    "*Sets from MBasicInt adjusted with E/H distinction:*\n",
    "* ```idxGen```: Split into two subsets. ```idxGenE, idxGenH```. Note:\n",
    "    * A generator can be in both ```idxGenE``` and ```idxGenH``` if it produces both (e.g. combined heat and power plants).\n",
    "    * Per construction, we define the full index ```idxGen``` as the union of the two sets.\n",
    "* ```idxCons```: Same procedure (split into E,H - add full index from union) \n",
    "* ```idxHVTGen```: Same procedure (split into E,H - add full index from union). \n",
    "* ```idxHVTCons```: Same procedure (split into E,H - add full index from union).\n"
   ]
  },
  {
   "cell_type": "markdown",
   "id": "63600515",
   "metadata": {},
   "source": [
    "*New sets:*\n",
    "* ```idxGE```, ```idxGH```: Geography indices.\n",
    "* ```idxPT```: Plant types. All generators should be mapped to unique type (mapping ```idxGen2PT```). Currently includes\n",
    "    * ```'stdE'```: Standard electricity producing plant. Behavior is similar to ```MBasicInt``` plants. Generator has to be mapped to unique element in geography index ```idxGE``` (mapping ```idxGen2GE```).\n",
    "    * ```'stdH'```: Standard heat producing plant. Reflects similar behavior as standard electricity generating plants, but for the heat markets. Generator has to be mapped to unique element in ```idxGH```. (mapping ```idxGen2GH```)\n",
    "    * ```'HP'```: Heat pump. Consumes electricity, produces heat. Generator has to be mapped to unique element in ```idxGE``` and ```idxGH```. \n",
    "    * ```'CHP'```: Combined heat and power producers. Generator has to be mapped to unique element in ```idxGE``` and ```idxGH```.\n",
    "* ```idxTrL```: Trade/transmission line index that links two adjacent geographic areas with a trade capacity.\n",
    "* ```idxHVTTrL```: Set of exogenously hourly variation paths, for trade/transmission lines. "
   ]
  },
  {
   "cell_type": "markdown",
   "id": "55c39177",
   "metadata": {},
   "source": [
    "#### **B. Variables:**"
   ]
  },
  {
   "cell_type": "markdown",
   "id": "a9e1616b",
   "metadata": {},
   "source": [
    "*From MBasicInt:*\n",
    "* ```pFuel(idxF)```: Fuel price. Default unit: €/GJ.\n",
    "* ```uEm(idxF, idxEm)```: Emission intensity. Default unit: Ton emission/GJ fuel input. \n",
    "* ```VOM(idxGen)```: variable operating and maintenance costs. Default unit: €/GJ output.\n",
    "* ```uFuel(idxF, idxGen)```: Fuelmix. Default unit: GJ input/GJ output.\n",
    "* ```taxEm(idxEm)```: Tax on emissions. Default unit: €/ton emission output.\n",
    "* ```uHrCap(idxHr, idxHVTGen)```: Parameter measuring how generating capacity varies over the year for variation type ```idxHVTGen```. Default unit: Hourly-to-maximum GJ/hour ratio. Generally, we expect ```uHrCap```$\\in[0,1]$ as it measures the scale of generating capacity in hour ```idxH``` relatively to installed effect (```genCap```).\n",
    "* ```uHrLoad(idxHr, idxHVTCons)```: Similar to ```uHrCap``` except this measures max load relative to peak demand throughout a year. \n",
    "\n",
    "\n",
    "*From MBasicInt, but with added distinction between E/H*.\n",
    "* ```genCap(idxGen)```: Is split into one for electricity, one for heat (```genCapE```, ```genCapH```).\n",
    "* ```mwp(idxCons)```: Marginal willingness to pay for consumers. Is split into one for electricity, one for heat (```mwpE```, ```mwpH```). \n",
    "* ```load(idxCons)```: Total demand for consumers if the price does not exceed their marginal willingness to pay. Default unit: GJ. (```loadE```, ```loadH```)"
   ]
  },
  {
   "cell_type": "markdown",
   "id": "aaeb0e9b",
   "metadata": {},
   "source": [
    "**Variables:**"
   ]
  },
  {
   "cell_type": "markdown",
   "id": "ea245b9d",
   "metadata": {},
   "source": [
    "*From MBasicInt:*\n",
    "* "
   ]
  },
  {
   "cell_type": "markdown",
   "id": "6eb4a121-52e4-4cba-a06a-00dcbaf23e3e",
   "metadata": {},
   "source": [
    "**Variables:** The model requires the following data to run:\n",
    "\n",
    "*From MBasicInt*:\n",
    "* ```pFuel(idxF)```: Fuel price. Default unit: €/GJ.\n",
    "* ```uEm(idxF, idxEm)```: Emission intensity. Default unit: Ton emission/GJ fuel input. \n",
    "* ```VOM(idxGen)```: variable operating and maintenance costs. Default unit: €/GJ output.\n",
    "* ```uFuel(idxF, idxGen)```: Fuelmix. Default unit: GJ input/GJ output.\n",
    "* ```taxEm(idxEm)```: Tax on emissions. Default unit: €/ton emission output.\n",
    "* ```uHrCap(idxHr, idxHVTGen)```: Parameter measuring how generating capacity varies over the year for variation type ```idxHVTGen```. Default unit: Hourly-to-maximum GJ/hour ratio. Generally, we expect ```uHrCap```$\\in[0,1]$ as it measures the scale of generating capacity in hour ```idxH``` relatively to installed effect (```genCap```).\n",
    "* ```uHrLoad(idxHr, idxHVTCons)```: Similar to ```uHrCap``` except this measures max load relative to peak demand throughout a year. \n",
    "\n",
    "\n",
    "*From MBasicInt, but with added distinction between E/H*.\n",
    "* ```genCap(idxGen)```: Is split into one for electricity, one for heat (```genCapE```, ```genCapH```).\n",
    "* ```mwp(idxCons)```: Marginal willingness to pay for consumers. Is split into one for electricity, one for heat (```mwpE```, ```mwpH```). \n",
    "* ```load(idxCons)```: Total demand for consumers if the price does not exceed their marginal willingness to pay. Default unit: GJ. (```loadE```, ```loadH```)"
   ]
  },
  {
   "cell_type": "markdown",
   "id": "c43a6fa1-e2c4-4e46-8075-886838844104",
   "metadata": {},
   "source": [
    "*Mappings from MBasicInt:* \n",
    "\n",
    "* ```idxGen2HVTGen(idxGen, idxHVTGen)```: Identifies what hourly variation pattern the specific generator follows. \n",
    "* ```idxCons2HVTCons(idxCons, idxHVTCons)```: Identifies hourly variation pattern specific demand component follows.\n",
    "* `` idx"
   ]
  }
 ],
 "metadata": {
  "kernelspec": {
   "display_name": "lpEnergyModels",
   "language": "python",
   "name": "python3"
  },
  "language_info": {
   "codemirror_mode": {
    "name": "ipython",
    "version": 3
   },
   "file_extension": ".py",
   "mimetype": "text/x-python",
   "name": "python",
   "nbconvert_exporter": "python",
   "pygments_lexer": "ipython3",
   "version": "3.13.5"
  }
 },
 "nbformat": 4,
 "nbformat_minor": 5
}
