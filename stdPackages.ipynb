{
 "cells": [
  {
   "cell_type": "markdown",
   "id": "e569f81f-f7ca-49b8-a5bb-ad377083053d",
   "metadata": {},
   "source": [
    "*Load the most common packages used throughout, add a small directory used to navigate to the most common folders:* "
   ]
  },
  {
   "cell_type": "code",
   "execution_count": null,
   "id": "6964b7e2-3ce7-47d3-b779-5138b8be710b",
   "metadata": {},
   "outputs": [],
   "source": [
    "import os, pandas as pd, numpy as np, pyDbs, symMaps, matplotlib as mpl, matplotlib.pyplot as plt\n",
    "_repo = 'lpEnergyModels'\n",
    "_d = {'main': os.path.join(os.getcwd().split(_repo,1)[0], _repo),\n",
    "     'curr': os.getcwd()}\n",
    "_d.update({'py': os.path.join(_d['main'], 'lpEnergyModels'),\n",
    "           'data': os.path.join(_d['main'], 'data'),\n",
    "           'docs': os.path.join(_d['main'], 'docs')})"
   ]
  }
 ],
 "metadata": {
  "kernelspec": {
   "display_name": "Python 3 (ipykernel)",
   "language": "python",
   "name": "python3"
  },
  "language_info": {
   "codemirror_mode": {
    "name": "ipython",
    "version": 3
   },
   "file_extension": ".py",
   "mimetype": "text/x-python",
   "name": "python",
   "nbconvert_exporter": "python",
   "pygments_lexer": "ipython3",
   "version": "3.13.5"
  }
 },
 "nbformat": 4,
 "nbformat_minor": 5
}
