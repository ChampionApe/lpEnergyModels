{
 "cells": [
  {
   "cell_type": "code",
   "execution_count": 1,
   "id": "9abcc9b3-b8f7-46cc-9315-e10c1b2337b0",
   "metadata": {},
   "outputs": [],
   "source": [
    "%run stdPackages.ipynb\n",
    "from lpEnergyModels.mBasic import * # Load everything from the mBasic module"
   ]
  },
  {
   "cell_type": "markdown",
   "id": "d2ef6e06-a36d-4488-b006-3fda7745233d",
   "metadata": {},
   "source": [
    "*Note: \"`self`\" is a placeholder that refers to the class MBasic or a specific instance of the class.*"
   ]
  },
  {
   "cell_type": "markdown",
   "id": "b31941d7-df26-46e8-8953-ce935cc2ab0d",
   "metadata": {},
   "source": [
    "# How to perform simple shocks/simulations"
   ]
  },
  {
   "cell_type": "markdown",
   "id": "988666e2-f65c-4964-8f3b-5fdb3b47c7c8",
   "metadata": {},
   "source": [
    "The notebook shows how to do simple policy shocks/simulations in the model. Specifically, we show how to set up a loop that updates some exogenous inputs to the model (e.g. tax lavels on emissions), solve, and store the results. We show a simple \"lazy\" approach and outline how to do this more efficiently (with big models/many simulations)."
   ]
  },
  {
   "cell_type": "markdown",
   "id": "5f00074a-da44-4b4e-abbe-76b2fa4cc6aa",
   "metadata": {},
   "source": [
    "We build on the `MBasic` model (see [notebook](MBasic.ipynb) for description of the model) and start by loading data, initializing model, and compiling the baseline structure:"
   ]
  },
  {
   "cell_type": "code",
   "execution_count": 2,
   "id": "9cb4ad60-cf86-4c25-9d2d-17306bd2f94d",
   "metadata": {},
   "outputs": [],
   "source": [
    "testData = os.path.join(_d['data'],'EX_MBasic.xlsx')\n",
    "data = pyDbs.ExcelSymbolLoader(testData)() # read data in a dict \n",
    "m = MBasic() # initialize model\n",
    "[m.db.__setitem__(k, v) for k,v in data.items() if k!='__meta__']; # add data to model database\n",
    "m.compile(); # create model structure"
   ]
  },
  {
   "cell_type": "markdown",
   "id": "a55a5a62-0bee-4cd6-9978-7aa4a21b46d8",
   "metadata": {},
   "source": [
    "The `MBasic` model relies on a tax on CO2 emissions `taxEm` that enters the model through the marginal costs of generators (`mc`). To start with, we define a grid of taxes that we want to run the model through:"
   ]
  },
  {
   "cell_type": "code",
   "execution_count": 3,
   "id": "bbe929cc-dfd0-4660-8e5a-66256bac0a20",
   "metadata": {},
   "outputs": [
    {
     "data": {
      "text/plain": [
       "idxLoop  idxEm\n",
       "0        CO2        0.0\n",
       "1        CO2       25.0\n",
       "2        CO2       50.0\n",
       "3        CO2       75.0\n",
       "4        CO2      100.0\n",
       "5        CO2      125.0\n",
       "6        CO2      150.0\n",
       "7        CO2      175.0\n",
       "8        CO2      200.0\n",
       "9        CO2      225.0\n",
       "10       CO2      250.0\n",
       "Name: taxEm, dtype: float64"
      ]
     },
     "execution_count": 3,
     "metadata": {},
     "output_type": "execute_result"
    }
   ],
   "source": [
    "name = 'taxEm' # name of model variable\n",
    "v0 = pd.Series(0, index = m.db(name).index) # Lowest value to look at\n",
    "vT = pd.Series(250, index = m.db(name).index) # Highest value to solve for \n",
    "idxLoop = pd.Index(range(11), name = 'idxLoop') # an index we can use to loop through\n",
    "grid = adjMultiIndex.addGrid(v0, vT, idxLoop,name) # grid object\n",
    "grid # display grid object"
   ]
  },
  {
   "cell_type": "markdown",
   "id": "fc28beaa-95de-4c1b-93de-5a7c7603be1f",
   "metadata": {},
   "source": [
    "### Manual, efficient implementation"
   ]
  },
  {
   "cell_type": "markdown",
   "id": "ce2774be-0146-4772-ac31-10d3046ce342",
   "metadata": {},
   "source": [
    "First, we show an efficient implementation (in terms of minimizing compilation time). Because our simulations only involve changing exogenous parameters (and not e.g. expanding indices/domains or introducing new variables/domains/constraints), we do not have to compile (set up model structure) in every iteration of the loop. We can simply adjust the `self.sys.out` dictionary that is ultimately the one that is passed to the solver. While this is efficient in terms of minimizing compilation time, it involves writing more code. \n",
    "\n",
    "In our case, the shock/simulation changes the tax on emissions, which changes the marginal costs of generators. Thus, we start by writing a new grid that is expressed in terms of marginal costs instead:"
   ]
  },
  {
   "cell_type": "code",
   "execution_count": 4,
   "id": "d5653105-e8ae-402d-be8e-faafffc1925d",
   "metadata": {},
   "outputs": [],
   "source": [
    "gridmc = mc(m.db('uFuel'), m.db('VOM'), m.db('pFuel'), m.db('uEm'), grid) # this calls the local function \"mc\""
   ]
  },
  {
   "cell_type": "markdown",
   "id": "f4a4dc80-3aae-4f64-9f06-fd8b1aef8429",
   "metadata": {},
   "source": [
    "Next, our shock involves updating the cost parameter in `self.sys.out['c']`, but we only need to update a part of the vector (only the part related to the variable `generation`). We can get the relevant indices by looking up in the `self.sys.maps['v']` dictionary:"
   ]
  },
  {
   "cell_type": "code",
   "execution_count": 5,
   "id": "c8b05b5c-8090-4570-875e-af7fc1ff18f4",
   "metadata": {},
   "outputs": [],
   "source": [
    "vIdx = m.sys.maps['v']['generation'].values # this is the indices in the vector self.sys.out['c'] that relates to the `generation` variable"
   ]
  },
  {
   "cell_type": "markdown",
   "id": "b40b521e-53b2-4006-959b-be11c2423502",
   "metadata": {},
   "source": [
    "Now, we can loop through our grid, update the relevant parts of the cost vector, solve, and store the solution:"
   ]
  },
  {
   "cell_type": "code",
   "execution_count": 6,
   "id": "040bba18-bbc6-418b-a7d1-2af524c64a61",
   "metadata": {},
   "outputs": [],
   "source": [
    "solsLoop = dict.fromkeys(idxLoop)\n",
    "for l in idxLoop:\n",
    "    m.sys.out['c'][vIdx] = gridmc.xs(l, level = idxLoop.name) # update relevant coefficients in the 'c' vector\n",
    "    solsLoop[l] = m.postSolve(m.solve()) # store solution in dictionary"
   ]
  },
  {
   "cell_type": "markdown",
   "id": "4c962db0-f747-4555-b676-5e7c1a6dcf06",
   "metadata": {},
   "source": [
    "We can turn this into a dictionary of frames instead using:"
   ]
  },
  {
   "cell_type": "code",
   "execution_count": 7,
   "id": "6579e40f-0478-4147-b49d-7730a5bf82c5",
   "metadata": {},
   "outputs": [],
   "source": [
    "solsDF = loopUnpackToDFs(solsLoop, idxLoop)"
   ]
  },
  {
   "cell_type": "markdown",
   "id": "ec8ade1d-983a-4516-a042-c1c2b754074c",
   "metadata": {},
   "source": [
    "### Simple, but automated implementation"
   ]
  },
  {
   "cell_type": "markdown",
   "id": "72e4bd62-190e-4072-96c9-57cb1a7a193b",
   "metadata": {},
   "source": [
    "An alternative to the manual approach is to use the `self.lazyLoop` method (also specified for the `ModelShell` class that we always build on). The loop goes through four steps: (1) Update database values from specified grids, (2) compile model again from scratch, (3) solve, (4) save post-solve routine to dict. \n",
    "\n",
    "We refer to this as a \"lazy\" loop, because it allows us to do a lot with small bits of code, but it spends unnecessary time recompiling the entire model from scratch; recall that once the model is compiled, the `self.sys.out` dictionary stores the relevant arguments that we need to pass to a solver. Often, the shock/simulation we have in mind can be carried out by simply adjusting selected elements in `self.sys.out` and then resolving. "
   ]
  },
  {
   "cell_type": "markdown",
   "id": "059b8c0c-af3e-4fa2-80eb-eb1e404dd177",
   "metadata": {},
   "source": [
    "While this is not necessarily efficient, it is convenient. For our shock above, for instance, we simply call:"
   ]
  },
  {
   "cell_type": "code",
   "execution_count": 8,
   "id": "7cc295be-a2bd-480d-b624-22bc4ac0990d",
   "metadata": {},
   "outputs": [
    {
     "data": {
      "text/html": [
       "<div>\n",
       "<style scoped>\n",
       "    .dataframe tbody tr th:only-of-type {\n",
       "        vertical-align: middle;\n",
       "    }\n",
       "\n",
       "    .dataframe tbody tr th {\n",
       "        vertical-align: top;\n",
       "    }\n",
       "\n",
       "    .dataframe thead th {\n",
       "        text-align: right;\n",
       "    }\n",
       "</style>\n",
       "<table border=\"1\" class=\"dataframe\">\n",
       "  <thead>\n",
       "    <tr style=\"text-align: right;\">\n",
       "      <th>idxLoop</th>\n",
       "      <th>0</th>\n",
       "      <th>1</th>\n",
       "      <th>2</th>\n",
       "      <th>3</th>\n",
       "      <th>4</th>\n",
       "      <th>5</th>\n",
       "      <th>6</th>\n",
       "      <th>7</th>\n",
       "      <th>8</th>\n",
       "      <th>9</th>\n",
       "      <th>10</th>\n",
       "    </tr>\n",
       "    <tr>\n",
       "      <th>idxGen</th>\n",
       "      <th></th>\n",
       "      <th></th>\n",
       "      <th></th>\n",
       "      <th></th>\n",
       "      <th></th>\n",
       "      <th></th>\n",
       "      <th></th>\n",
       "      <th></th>\n",
       "      <th></th>\n",
       "      <th></th>\n",
       "      <th></th>\n",
       "    </tr>\n",
       "  </thead>\n",
       "  <tbody>\n",
       "    <tr>\n",
       "      <th>wind</th>\n",
       "      <td>720.0</td>\n",
       "      <td>720.0</td>\n",
       "      <td>720.0</td>\n",
       "      <td>720.0</td>\n",
       "      <td>720.0</td>\n",
       "      <td>720.0</td>\n",
       "      <td>720.0</td>\n",
       "      <td>720.0</td>\n",
       "      <td>720.0</td>\n",
       "      <td>720.0</td>\n",
       "      <td>720.0</td>\n",
       "    </tr>\n",
       "    <tr>\n",
       "      <th>solar</th>\n",
       "      <td>360.0</td>\n",
       "      <td>360.0</td>\n",
       "      <td>360.0</td>\n",
       "      <td>360.0</td>\n",
       "      <td>360.0</td>\n",
       "      <td>360.0</td>\n",
       "      <td>360.0</td>\n",
       "      <td>360.0</td>\n",
       "      <td>360.0</td>\n",
       "      <td>360.0</td>\n",
       "      <td>360.0</td>\n",
       "    </tr>\n",
       "    <tr>\n",
       "      <th>nuclear</th>\n",
       "      <td>3600.0</td>\n",
       "      <td>3600.0</td>\n",
       "      <td>3600.0</td>\n",
       "      <td>3600.0</td>\n",
       "      <td>3600.0</td>\n",
       "      <td>3600.0</td>\n",
       "      <td>3600.0</td>\n",
       "      <td>3600.0</td>\n",
       "      <td>3600.0</td>\n",
       "      <td>3600.0</td>\n",
       "      <td>3600.0</td>\n",
       "    </tr>\n",
       "    <tr>\n",
       "      <th>biomass</th>\n",
       "      <td>180.0</td>\n",
       "      <td>180.0</td>\n",
       "      <td>180.0</td>\n",
       "      <td>180.0</td>\n",
       "      <td>180.0</td>\n",
       "      <td>180.0</td>\n",
       "      <td>180.0</td>\n",
       "      <td>180.0</td>\n",
       "      <td>180.0</td>\n",
       "      <td>180.0</td>\n",
       "      <td>180.0</td>\n",
       "    </tr>\n",
       "    <tr>\n",
       "      <th>natgas</th>\n",
       "      <td>1260.0</td>\n",
       "      <td>1260.0</td>\n",
       "      <td>0.0</td>\n",
       "      <td>0.0</td>\n",
       "      <td>0.0</td>\n",
       "      <td>0.0</td>\n",
       "      <td>0.0</td>\n",
       "      <td>0.0</td>\n",
       "      <td>0.0</td>\n",
       "      <td>0.0</td>\n",
       "      <td>0.0</td>\n",
       "    </tr>\n",
       "    <tr>\n",
       "      <th>coal</th>\n",
       "      <td>2880.0</td>\n",
       "      <td>2880.0</td>\n",
       "      <td>2880.0</td>\n",
       "      <td>0.0</td>\n",
       "      <td>0.0</td>\n",
       "      <td>0.0</td>\n",
       "      <td>0.0</td>\n",
       "      <td>0.0</td>\n",
       "      <td>0.0</td>\n",
       "      <td>0.0</td>\n",
       "      <td>0.0</td>\n",
       "    </tr>\n",
       "  </tbody>\n",
       "</table>\n",
       "</div>"
      ],
      "text/plain": [
       "idxLoop      0       1       2       3       4       5       6       7   \\\n",
       "idxGen                                                                    \n",
       "wind      720.0   720.0   720.0   720.0   720.0   720.0   720.0   720.0   \n",
       "solar     360.0   360.0   360.0   360.0   360.0   360.0   360.0   360.0   \n",
       "nuclear  3600.0  3600.0  3600.0  3600.0  3600.0  3600.0  3600.0  3600.0   \n",
       "biomass   180.0   180.0   180.0   180.0   180.0   180.0   180.0   180.0   \n",
       "natgas   1260.0  1260.0     0.0     0.0     0.0     0.0     0.0     0.0   \n",
       "coal     2880.0  2880.0  2880.0     0.0     0.0     0.0     0.0     0.0   \n",
       "\n",
       "idxLoop      8       9       10  \n",
       "idxGen                           \n",
       "wind      720.0   720.0   720.0  \n",
       "solar     360.0   360.0   360.0  \n",
       "nuclear  3600.0  3600.0  3600.0  \n",
       "biomass   180.0   180.0   180.0  \n",
       "natgas      0.0     0.0     0.0  \n",
       "coal        0.0     0.0     0.0  "
      ]
     },
     "execution_count": 8,
     "metadata": {},
     "output_type": "execute_result"
    }
   ],
   "source": [
    "solsDF = m.lazyLoopAsDFs(grid, idxLoop)\n",
    "solsDF['generation'] # inspect some of the solution"
   ]
  }
 ],
 "metadata": {
  "kernelspec": {
   "display_name": "Python 3 (ipykernel)",
   "language": "python",
   "name": "python3"
  },
  "language_info": {
   "codemirror_mode": {
    "name": "ipython",
    "version": 3
   },
   "file_extension": ".py",
   "mimetype": "text/x-python",
   "name": "python",
   "nbconvert_exporter": "python",
   "pygments_lexer": "ipython3",
   "version": "3.13.5"
  }
 },
 "nbformat": 4,
 "nbformat_minor": 5
}
