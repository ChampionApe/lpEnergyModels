{
 "cells": [
  {
   "cell_type": "code",
   "execution_count": 1,
   "id": "d5c8abf9-d16a-4181-ba98-5d326b55e2c9",
   "metadata": {},
   "outputs": [],
   "source": [
    "%run stdPackages.ipynb\n",
    "from lpEnergyModels.mBasicInt import * # Load everything from the mBasicInt module\n",
    "import pickle"
   ]
  },
  {
   "cell_type": "markdown",
   "id": "528c0adb-addd-432d-b21d-4fdbdcc91fe0",
   "metadata": {},
   "source": [
    "*Note: \"`self`\" is a placeholder that refers to the class MBasicInt or a specific instance of the class.*"
   ]
  },
  {
   "cell_type": "markdown",
   "id": "0c7c9020-5153-4bd5-ba8b-4dc458257bf1",
   "metadata": {},
   "source": [
    "# The MBasicInt class"
   ]
  },
  {
   "cell_type": "markdown",
   "id": "cd7adb57-ced3-47b9-b7ef-ba81978a7fc2",
   "metadata": {},
   "source": [
    "The `MBasicInt` class builds primarily on three other classes: (1) The model structure class `symMaps.ModelShell`, (2) the linear programming class `symMaps.LPSys`, and (3) the database class `pyDbs.SimpleDB`. The relevant packages are documented here: \n",
    "* [GitHub: ChampionApe/symMaps](https://github.com/ChampionApe/symMaps)\n",
    "* [GitHub: ChampionApe/pyDbs](https://github.com/ChampionApe/pyDbs).\n",
    "\n",
    "The class `MBasicInt(ModelShell`) builds directly on the `symMaps.ModelShell` class. To each model instance, we set an attribute `self.sys` as the instance of the linear programming class `symMaps.LPSys` and a database instance `symMaps.SimpleDB` as the attribute `self.sys.db` (which can be accessed by calling `self.db` as well). "
   ]
  },
  {
   "cell_type": "markdown",
   "id": "52176562-d869-449b-a14a-fc90f2e02b99",
   "metadata": {},
   "source": [
    "The relevant Github pages include notebooks that more carefully describe the different classes. Here, we go through three steps: Data, model formulation, and solution."
   ]
  },
  {
   "cell_type": "markdown",
   "id": "df696340-fc77-4d02-bee5-54c72919140b",
   "metadata": {},
   "source": [
    "## 1. Data"
   ]
  },
  {
   "cell_type": "markdown",
   "id": "e8baaa6d-81a0-4193-a62f-6a566d0767ef",
   "metadata": {},
   "source": [
    "The model is an extension of the `MBasic` model, but with enough adjustments that it specified as a new class instead of adding `MBasic` as a parent class. To keep the documentation somewhat succinct, we assume that you have already been through the docs on `MBasic` (parentheses indicate symbols used in plain math below):"
   ]
  },
  {
   "cell_type": "markdown",
   "id": "513e4db8-e00b-4b09-8762-c335bdd0b9b3",
   "metadata": {},
   "source": [
    "**Sets:** The model is defined over the following main indices:\n",
    "\n",
    "*From MBasic:*\n",
    "* ```idxGen``` ($i$): Set of electricity generators.\n",
    "* ```idxF``` ($f$): Set of fuel types that generators may use.\n",
    "* ```idxEm``` ($em$): Set of emission types included in the model.\n",
    "* ```idxCons``` ($ic$): Set of consumers in the power market.\n",
    "\n",
    "*New ones:*\n",
    "* ```idxHr``` ($h$): Set of short run states (hours).\n",
    "* ```idxHVTGen``` ($vi$): Set of exogenous hourly variation paths, for generators.\n",
    "* ```idxHVTCons```($vic$): Set of exogenous hourly variation paths, for consumers.\n",
    "\n",
    "\n",
    "**Variables:**\n",
    "\n",
    "*From MBasic:*\n",
    "The model requires the following data to run:\n",
    "* ```pFuel(idxF)``` ($p_f$): Fuel price. Default unit: €/GJ. \n",
    "* ```uEm(idxF, idxEm)``` ($\\phi_{f,em}$): Emission intensity. Default unit: Ton emission/GJ fuel input. \n",
    "* ```VOM(idxGen)``` ($c_i^{oth}$): variable operating and maintenance costs. Default unit: €/GJ output.\n",
    "* ```uFuel(idxF, idxGen)``` ($\\mu_{f,i}$): Fuelmix. Default unit: GJ input/GJ output.\n",
    "* ```taxEm(idxEm)``` ($\\tau_{em}$): Tax on emissions. Default unit: €/ton emission output.\n",
    "* ```genCap(idxGen)``` ($q_i$): Generating capacity. Default unit: GJ/hour.\n",
    "* ```mwp(idxCons)``` ($u_{ic}$): Marginal willingness to pay for consumers. Default unit: €/GJ. \n",
    "* ```load(idxCons)``` ($L_{ic}$): Average hourly unconstrained demand (annual mean).\n",
    "\n",
    "*New ones:*\n",
    "* ```uHrCap(idxHr, idxHVTGen)``` ($\\gamma_{h, vi}$): Parameter measuring how generating capacity varies over the year for variation type ```idxHVTGen```. Default unit: Hourly-to-maximum GJ/hour ratio. Generally, we expect ```uHrCap```$\\in[0,1]$ as it measures the scale of generating capacity in hour ```idxH``` relatively to installed effect (```genCap```).\n",
    "* ```uHrLoad(idxHr, idxHVTCons)``` ($\\gamma_{h, vic}$): Similar to ```uHrCap``` except this measures hourly demand relative to the yearly mean. \n",
    "\n",
    "Beyond this, ideally we would also add the following variables on the cost structure for generators (these are not required for solving the model, but for assessing cost-effectiveness afterwards):\n",
    "* ```FOM(idxGen)``` ($FOM_i$): Fixed operating and maintenance costs. Default unit: (1000 €/(GJ/hour generating capacity)) / year.\n",
    "* ```INVC(idxGen)``` ($INVC_i$): Annualized investment costs. Default unit: 1000 €/ (GJ/hour generating capacity) / year (annualized).\n",
    "\n",
    "**Mappings:** In addition to new sets and parameters, we require mappings from generators and consumers to the relevant hourly patterns. These are defined as ```pd.MultiIndex``` instances over relevant sets:\n",
    "\n",
    "* ```idxGen2HVTGen(idxGen, idxHVTGen)```: Identifies what hourly variation pattern the specific generator follows. \n",
    "* ```idxCons2HVTCons(idxCons, idxHVTCons)```: Identifies hourly variation pattern specific demand component follows."
   ]
  },
  {
   "cell_type": "markdown",
   "id": "eae5936d-8fe9-4f92-8854-abb8c6644cc6",
   "metadata": {},
   "source": [
    "The excel file `data/EX_MBasic_CA.xlsx` in the data repo contains an example of the relevant data outlined above (except for values for the endogenous variables that we are going to solve for). The file `data/EX_MBasicInt_CA.pkl` in the data repo contains a pickled example of the excel data after reading it using the `pyDbs.ExcelSymbolLoadear` class."
   ]
  },
  {
   "cell_type": "markdown",
   "id": "82428ac6-8c1e-49c0-bfb0-f96b995aec03",
   "metadata": {},
   "source": [
    "## 2. Model formulation"
   ]
  },
  {
   "cell_type": "markdown",
   "id": "02077202-0a27-4acb-8e28-3731240ff834",
   "metadata": {},
   "source": [
    "### A. Formal setup"
   ]
  },
  {
   "cell_type": "markdown",
   "id": "7f4718ff-9b63-4990-9b24-c1463cae219a",
   "metadata": {},
   "source": [
    "**Formal optimization problem:**"
   ]
  },
  {
   "cell_type": "markdown",
   "id": "daf41938-c1c6-4618-a0cd-38df051e7ca2",
   "metadata": {},
   "source": [
    "The model solves for vectors of electricity generation ($E_{h,i}$ = `generation`) and demand levels ($D_{h,ic}$ = `demand`) by solving:\n",
    "$$\\begin{align}\n",
    "    &\\max\\mbox{ }\\sum_h\\left(\\sum_{ic}u_{ic} D_{h, ic} - \\sum_{i} c_i E_{h,i} \\right) \\tag{1A} \\\\\n",
    "    &\\text{subject to:} \\\\\n",
    "    &\\sum_{ic} D_{h,ic} = \\sum_i E_{h,i}, \\qquad \\forall h, \\tag{1B} \\\\\n",
    "    & E_{h,i}\\in[0,q_{h,i}], \\quad \\text{and} \\quad D_{h,ic} \\in[0, L_{h,ic}], \\tag{1C}\n",
    "\\end{align}$$\n",
    "and where the marginal costs of generation, $E_i$, are computed from:\n",
    "$$\\begin{align}\n",
    "    c_i = c_i^{oth} + \\sum_f \\mu_{f,i} (p_f + \\sum_{em} \\phi_{f,em}\\cdot\\tau_{em}) \\tag{2}\n",
    "\\end{align}$$"
   ]
  },
  {
   "cell_type": "markdown",
   "id": "afa3bef0-a9a5-4161-b52e-6c9607fb489b",
   "metadata": {},
   "source": [
    "We note that the hourly generating capacities $q_{h,i}$ are given by $q_i * \\gamma_{h, vi}$ (installed capacity times hourly variation), where $vi$ is matched to the individual generator via the mapping `idxGen2HVTGen`. Similarly, hourly demand/load restriction $L_{h,ic}$ is given by $L_{ic} * \\gamma_{h,vic}$ (average hourly demand times hourly variation), where $vic$ is matched to the consumer via the mapping `idxCons2HVTCons`."
   ]
  },
  {
   "cell_type": "markdown",
   "id": "ff84346c-6b58-484b-bb02-a69fc60f965d",
   "metadata": {},
   "source": [
    "**Augmented form:**"
   ]
  },
  {
   "cell_type": "markdown",
   "id": "308c9aaa-d226-485a-9b66-9a3057b6a74a",
   "metadata": {},
   "source": [
    "The actual structure of the problem is handled by the `symMaps.LPSys`class, which is designed for Linear Programming (LP) problems. This means that we have to formulate the math in the following canonical form (we'll refer to this as an \"augmented form\"):\n",
    "$$\\begin{align} \n",
    "    &\\min_{x} \\ c^T\\cdot x \\tag{3A}\\\\ \n",
    "    &A_{ub}\\times x \\leq b_{ub} \\tag{3B}\\\\ \n",
    "    &A_{eq}\\times x  = b_{eq} \\tag{3C}\\\\ \n",
    "    &l\\leq x\\leq u, \\tag{3D}\n",
    "\\end{align}$$\n",
    "where: \n",
    "* $x$ is the vector of choice variables of length ($N$).\n",
    "* $c, l, u$ are coefficient vectors of the same length ($N$).\n",
    "* $b_{eq}, b_{ub}$ are coefficient vectors of lengths $N_{eq}, N_{ub}$, \n",
    "* and $A_{eq}, A_{ub}$ are coefficient matrices of sizes $(N_{eq}\\times N)$ and $(N_{ub} \\times N)$ respectively.\n",
    "\n",
    "We generally refer to (3B)-(3C) as variational constraints, and (3D) as domain constraints."
   ]
  },
  {
   "cell_type": "code",
   "execution_count": 2,
   "id": "b66aae96-d269-469f-bf8f-409c0dd2200a",
   "metadata": {},
   "outputs": [],
   "source": [
    "testData = os.path.join(_d['data'],'EX_MBasicInt_CA.xlsx')\n",
    "data = pyDbs.ExcelSymbolLoader(testData)() # read data in a dict \n",
    "m = MBasicInt() # initialize model\n",
    "[m.db.__setitem__(k, v) for k,v in data.items() if k!='__meta__']; # add data to model database"
   ]
  },
  {
   "cell_type": "markdown",
   "id": "0678e44d-37ef-4f13-9d8e-c0616293bc86",
   "metadata": {},
   "source": [
    "Save pickle instance:"
   ]
  },
  {
   "cell_type": "code",
   "execution_count": 3,
   "id": "840f44dd-5d69-4cf6-ae0d-b1dbf192a5f9",
   "metadata": {},
   "outputs": [],
   "source": [
    "with open (os.path.join(_d['data'], 'EX_MBasicInt_CA.pkl'), \"wb\") as file:\n",
    "    pickle.dump(data, file)"
   ]
  },
  {
   "cell_type": "markdown",
   "id": "d899d3b1-39dc-4e11-8d68-da56a59291f0",
   "metadata": {},
   "source": [
    "### B. Add model structure -  `self.compile`"
   ]
  },
  {
   "cell_type": "markdown",
   "id": "525de52c-3055-4eb1-a4c1-ef24c6a4cb56",
   "metadata": {},
   "source": [
    "The method `self.compile` adds the model in equations (1)-(2) to the linear programming system `self.sys` consistent with the structure in equations (3). This is done in three steps:\n",
    "1. Specify fundamentals: Provide variables and variational constraints in (1) and what sets/domains they are defined over.\n",
    "2. An auxiliary calculations step: Provides a way of computing variables before the optimization. \n",
    "3. Add/specify parameters $c^T, A_{ub}, A_{eq}, b_{ub}, b_{eq}, l, u$ from equations (3)."
   ]
  },
  {
   "cell_type": "markdown",
   "id": "adc1e37e-7249-4987-8d66-d16fcb60957f",
   "metadata": {},
   "source": [
    "####  *i)* Fundamentals - `self.compileMaps()`"
   ]
  },
  {
   "cell_type": "markdown",
   "id": "1257955c-2f14-4fe7-a5af-cb036d05e376",
   "metadata": {},
   "source": [
    "The `self.compileMaps` starts by declaring domains of variables (in method `self.initArgs_v`), equality constraints (in method `self.initArgs_eq`), and inequality constraints (in method `self.initArgs_ub`). In this model, we have:\n",
    "* Two variables: `generation` ($E_{h,i}$) defined over the indices `idxHr`  and `idxGen` ($h,i$) and `demand` defined over `idxHr` and `idxCons` ($h, ic$).\n",
    "* One constraint: `equilibrium` defined over the index `idxHr` ($h$)."
   ]
  },
  {
   "cell_type": "markdown",
   "id": "9eeaedad-6a4f-4135-8a25-ac1cde6346bd",
   "metadata": {},
   "source": [
    "With this structure in place, the `self.compileMaps` method then applies `self.sys.compileMaps` which establishes the global indices for variables and constraints: "
   ]
  },
  {
   "cell_type": "code",
   "execution_count": 4,
   "id": "a531de36-a8e0-4eeb-b3be-925300f03f68",
   "metadata": {},
   "outputs": [
    {
     "data": {
      "text/plain": [
       "{'equilibrium': Index(['h01', 'h02', 'h03', 'h04', 'h05', 'h06', 'h07', 'h08', 'h09', 'h10',\n",
       "        'h11', 'h12', 'h13', 'h14', 'h15', 'h16', 'h17', 'h18', 'h19', 'h20',\n",
       "        'h21', 'h22', 'h23', 'h24'],\n",
       "       dtype='object', name='idxHr')}"
      ]
     },
     "execution_count": 4,
     "metadata": {},
     "output_type": "execute_result"
    }
   ],
   "source": [
    "m.compileMaps()\n",
    "m.sys.eq # look at the mapping from constraint names to their relevant domains"
   ]
  },
  {
   "cell_type": "markdown",
   "id": "11707bb1-8769-4645-a037-0053a0251812",
   "metadata": {},
   "source": [
    "####  *ii)* Auxiliary calculations - `self.updateAux`"
   ]
  },
  {
   "cell_type": "markdown",
   "id": "11c609fa-b84c-4a9c-9a97-6e63ceaeae4d",
   "metadata": {},
   "source": [
    "This step computes auxiliary parameters used in the model. In this case, we compute marginal costs (`mcHr`), hourly generating capacity (`genCapHr`), and hourly load (`loadHr`) and add them to the model database in `self.db`:"
   ]
  },
  {
   "cell_type": "code",
   "execution_count": 5,
   "id": "20fd0b4b-918f-4f08-b08f-92a97c228f35",
   "metadata": {},
   "outputs": [
    {
     "data": {
      "text/html": [
       "<div>\n",
       "<style scoped>\n",
       "    .dataframe tbody tr th:only-of-type {\n",
       "        vertical-align: middle;\n",
       "    }\n",
       "\n",
       "    .dataframe tbody tr th {\n",
       "        vertical-align: top;\n",
       "    }\n",
       "\n",
       "    .dataframe thead th {\n",
       "        text-align: right;\n",
       "    }\n",
       "</style>\n",
       "<table border=\"1\" class=\"dataframe\">\n",
       "  <thead>\n",
       "    <tr style=\"text-align: right;\">\n",
       "      <th>idxGen</th>\n",
       "      <th>biomass</th>\n",
       "      <th>coal</th>\n",
       "      <th>hydro</th>\n",
       "      <th>natgas</th>\n",
       "      <th>nuclear</th>\n",
       "      <th>solar</th>\n",
       "      <th>wind_offshore</th>\n",
       "      <th>wind_onshore</th>\n",
       "    </tr>\n",
       "    <tr>\n",
       "      <th>idxHr</th>\n",
       "      <th></th>\n",
       "      <th></th>\n",
       "      <th></th>\n",
       "      <th></th>\n",
       "      <th></th>\n",
       "      <th></th>\n",
       "      <th></th>\n",
       "      <th></th>\n",
       "    </tr>\n",
       "  </thead>\n",
       "  <tbody>\n",
       "    <tr>\n",
       "      <th>h01</th>\n",
       "      <td>14.0</td>\n",
       "      <td>18.712</td>\n",
       "      <td>1.0</td>\n",
       "      <td>16.248</td>\n",
       "      <td>2.105</td>\n",
       "      <td>1.0</td>\n",
       "      <td>1.2</td>\n",
       "      <td>1.0</td>\n",
       "    </tr>\n",
       "    <tr>\n",
       "      <th>h02</th>\n",
       "      <td>14.0</td>\n",
       "      <td>18.712</td>\n",
       "      <td>1.0</td>\n",
       "      <td>16.248</td>\n",
       "      <td>2.105</td>\n",
       "      <td>1.0</td>\n",
       "      <td>1.2</td>\n",
       "      <td>1.0</td>\n",
       "    </tr>\n",
       "    <tr>\n",
       "      <th>h03</th>\n",
       "      <td>14.0</td>\n",
       "      <td>18.712</td>\n",
       "      <td>1.0</td>\n",
       "      <td>16.248</td>\n",
       "      <td>2.105</td>\n",
       "      <td>1.0</td>\n",
       "      <td>1.2</td>\n",
       "      <td>1.0</td>\n",
       "    </tr>\n",
       "    <tr>\n",
       "      <th>h04</th>\n",
       "      <td>14.0</td>\n",
       "      <td>18.712</td>\n",
       "      <td>1.0</td>\n",
       "      <td>16.248</td>\n",
       "      <td>2.105</td>\n",
       "      <td>1.0</td>\n",
       "      <td>1.2</td>\n",
       "      <td>1.0</td>\n",
       "    </tr>\n",
       "    <tr>\n",
       "      <th>h05</th>\n",
       "      <td>14.0</td>\n",
       "      <td>18.712</td>\n",
       "      <td>1.0</td>\n",
       "      <td>16.248</td>\n",
       "      <td>2.105</td>\n",
       "      <td>1.0</td>\n",
       "      <td>1.2</td>\n",
       "      <td>1.0</td>\n",
       "    </tr>\n",
       "  </tbody>\n",
       "</table>\n",
       "</div>"
      ],
      "text/plain": [
       "idxGen  biomass    coal  hydro  natgas  nuclear  solar  wind_offshore  \\\n",
       "idxHr                                                                   \n",
       "h01        14.0  18.712    1.0  16.248    2.105    1.0            1.2   \n",
       "h02        14.0  18.712    1.0  16.248    2.105    1.0            1.2   \n",
       "h03        14.0  18.712    1.0  16.248    2.105    1.0            1.2   \n",
       "h04        14.0  18.712    1.0  16.248    2.105    1.0            1.2   \n",
       "h05        14.0  18.712    1.0  16.248    2.105    1.0            1.2   \n",
       "\n",
       "idxGen  wind_onshore  \n",
       "idxHr                 \n",
       "h01              1.0  \n",
       "h02              1.0  \n",
       "h03              1.0  \n",
       "h04              1.0  \n",
       "h05              1.0  "
      ]
     },
     "execution_count": 5,
     "metadata": {},
     "output_type": "execute_result"
    }
   ],
   "source": [
    "m.updateAux()\n",
    "m.db('mcHr').unstack('idxGen').head() # inspect the marginal costs that we have added to the database"
   ]
  },
  {
   "cell_type": "markdown",
   "id": "1601b398-0ce8-4641-926d-cb7cb4d65fcb",
   "metadata": {},
   "source": [
    "We implement this as a standard method in the class because we expect many scenarios likely involve recomputing this object. "
   ]
  },
  {
   "cell_type": "markdown",
   "id": "e0e2f091-e6dc-436c-b86e-803e6817f860",
   "metadata": {},
   "source": [
    "####  *iii)* Specify parameters for `LPSys` - `self.compileParams`"
   ]
  },
  {
   "cell_type": "markdown",
   "id": "410903eb-c30a-4f44-82cc-5d303409c0df",
   "metadata": {},
   "source": [
    "We specify the parameters for the `LPSys` method going through (1) adding coefficients on variables (`c`, `u`, `l`), (2) equality constraints (`A_eq`, `b_eq`), and (3) inequality constraints (`A_ub`, `b_ub`)."
   ]
  },
  {
   "cell_type": "markdown",
   "id": "f00637c0-e70f-4ba9-ab55-376bcf880d95",
   "metadata": {},
   "source": [
    "**Coefficients on variables:**"
   ]
  },
  {
   "cell_type": "markdown",
   "id": "a60673ff-1254-4b62-a607-dc51aa1d4e19",
   "metadata": {},
   "source": [
    "Coefficients on `generation` and `demand` are added in a similar way as in the `MBasic` model (specifying `self.initArgsV_{k}` methods with k = `generation`, `demand`); the only difference now is that both variables are defined over hours as well. This is captured either by referencing parameters in the `self.db` that are now defined over hours (e.g. `mcHr[idxHr, idxGen]` instead of `mc[idxGen]`) or by broadcasting a parameter to the relevant domains."
   ]
  },
  {
   "cell_type": "markdown",
   "id": "eb3a9987-685f-4319-beb9-ccdb3f6945d5",
   "metadata": {},
   "source": [
    "For the `demand` variable, for instance, we add the following:\n",
    "\n",
    "```python\n",
    "def initArgsV_demand(self):\n",
    "\tself.sys.lp['c'][('mwp', 'demand')] = reorder(-Broadcast.seriesToIdx(self.db('mwp'), self.sys.v['demand']), order = self.sys.v['demand'].names)\n",
    "\tself.sys.lp['u'][('loadCap', 'demand')] = self.db('loadHr')\n",
    "```\n",
    "We do not specify a lower bound, as the default is simply zero here. The first line specifies that the `c` component is minus the marginal willingness to pay (`mwp[idxCons]`) broadcasted to the full domain of the `demand` variable as declared in `self.sys.v['demand']`. The second line simply declares the upper bound on demand as the auxiliary parameter `loadHr[idxHr, idxCons]` which is already defined over the proper domains. "
   ]
  },
  {
   "cell_type": "markdown",
   "id": "35c4bf64-fd94-414f-8bb2-f1b3c38212f8",
   "metadata": {},
   "source": [
    "**Equality constraints:**"
   ]
  },
  {
   "cell_type": "markdown",
   "id": "1137eb0e-d6eb-49bd-91ad-4762871b25b5",
   "metadata": {},
   "source": [
    "Variational constraints (equality/inequality) are added in a similar manner as the coefficients on parameters:for equality constraints, we iterate through methods following a specific syntax `f'self.initArgsEq_{k}'`where `k` represents the specific constraint (from `self.sys.eq`). For inequality constraints, we simply replace `eq` with `ub`."
   ]
  },
  {
   "cell_type": "markdown",
   "id": "477442c3-459e-46c4-9a11-ce9570a15b48",
   "metadata": {},
   "source": [
    "In this model, we have a single variational constraint in this model, namely the `equilibrium` one. We note that even though the constraint and variables are now defined over an additional index (`idxHr`) compared to the `MBasic` model, the method that specifies the equilibrium constraint is the same:\n",
    "```python\n",
    "def initArgsEq_equilibrium(self):\n",
    "\tself.sys.lazyA('eq2Gen', series = 1,  v = 'generation', constr = 'equilibrium',attr='eq')\n",
    "\tself.sys.lazyA('eq2Dem', series = -1, v = 'demand', constr = 'equilibrium',attr='eq')\n",
    "```\n",
    "We rely on the `lazyA` method for adding the coefficients on `generation` and `demand`; this broadcasts the scalars (1 and -1, respectively) to the full domain of the constraint/variable. If the constraint requires a constant different from zero, we would have added it here to the `self.sys.lp['b_eq']` structure. Without adding any, the compiler defaults to zero. "
   ]
  },
  {
   "cell_type": "markdown",
   "id": "7bb27638-7314-442a-865b-196007f152bb",
   "metadata": {},
   "source": [
    "The `self.compileParams` sets up the structure and returns the `self.sys.out` that can be passed to the linear programming solver: "
   ]
  },
  {
   "cell_type": "code",
   "execution_count": 6,
   "id": "0406cdf9-a147-47e1-b253-e8c6e0db2f28",
   "metadata": {},
   "outputs": [],
   "source": [
    "m.compileParams();"
   ]
  },
  {
   "cell_type": "markdown",
   "id": "04aae8a3-2df4-42c3-b7c9-76bda915d1a6",
   "metadata": {},
   "source": [
    "## 3. Post solution routine - `self.postSolve`"
   ]
  },
  {
   "cell_type": "markdown",
   "id": "ad8a12aa-cbed-4551-9026-4c5c1fd44f13",
   "metadata": {},
   "source": [
    "The steps above can be summarized by the following two calls:"
   ]
  },
  {
   "cell_type": "code",
   "execution_count": 7,
   "id": "3b338236-0743-4817-b4d3-c058be9e2172",
   "metadata": {},
   "outputs": [],
   "source": [
    "m.compile()\n",
    "sol = m.solve()"
   ]
  },
  {
   "cell_type": "markdown",
   "id": "cd7c13a5-aa76-429b-b2c4-b2c833f612ad",
   "metadata": {},
   "source": [
    "The `sol` is the solution object returned from `scipy.optimize.linprog`. Note that the `self.solve` includes an assertion that `sol['status'] == 0`, i.e. it raises an error if the optimization is not successful. For this model, we implement a bigger `postSolve` routine:\n",
    "```python\n",
    "def postSolve(self, sol, **kwargs):\n",
    "\tsolDict = super().postSolve(sol)\n",
    "\tsolDict['surplus'] = -sol['fun']\n",
    "\tsolDict['fuelCons'] = fuelConsumption(solDict['generation'], self.db('uFuel'), self.scale)\n",
    "\tsolDict['emissions'] = emissionsFuel(solDict['fuelCons'], self.db('uEm'))\n",
    "\tsolDict['utilGenCap'] = utilGenCap(solDict['generation'], self.db('genCap'), self.db('idxHr'))\n",
    "\tsolDict['utilGenCapHVT'] = utilGenCapHVT(solDict['generation'], self.db('genCapHr'))\n",
    "\tsolDict['unitGenCapCosts'] = unitGenC(self.db('mcHr'), self.db('FOM'), self.db('INVC'), solDict['generation'], self.db('genCap'), self.scale)\n",
    "\tsolDict['pHr'] = solDict['λeq_equilibrium'] # marginal prices = marginal system costs\n",
    "\tsolDict['pAvg'] = avgGenPrice(solDict['generation'], solDict['pHr'], sumOver = ['idxHr','idxGen'])\n",
    "\tsolDict['pAvgGen'] = avgGenPrice(solDict['generation'], solDict['pHr'], sumOver = 'idxHr')\n",
    "\tsolDict['downlift'] = solDict['pAvg']-solDict['pAvgGen']\n",
    "\tsolDict['mEV'] = mEV(solDict['λu_generation'], self.aux_uHrGenCap, self.db('FOM'), self.db('INVC'), self.db('genCap'), self.scale)\n",
    "\treturn solDict\n",
    "```"
   ]
  },
  {
   "cell_type": "markdown",
   "id": "577793e3-bb50-4a53-813b-81820d3cfcee",
   "metadata": {},
   "source": [
    "Beyond the usual solution (variables and duals for variational constrains + domain constraints), this adds a number of additional variables. Note that (almost) all of them are calling local functions defined in the script. We note that another feature of the `MBasicInt` model is that it has a defined `self.scale` which is simply defined as 8760 divided by the number of hours in `idxHr`. The idea is that parameters/variables generally represent hourly values, but variables that measure totals are rescaled as if the model covers a year. This is the case for `fuelCons` and `emissions`, for instance, but it also becomes relevant in the measures for average costs of a generator `unitGenCapCosts` and the marginal economic value `mEV`. These variables weigh the short run costs/revenues relative to long run measured (`FOM`, `INVC`) that are measured on a yearly scale.\n",
    "\n",
    "The variables are:\n",
    "* `surplus`: Scalar - simply the negative value of the objective function (which is minimized).\n",
    "* `fuelCons[idxF]`: Fuel consumption.\n",
    "* `emissions[idxEm]`: Emissions.\n",
    "* `utilGenCap[idxGen]`: Utilization rate for generators - measured as $\\sum_h E_{h,i}/ H * q_i$ where $H$ is the number of hours in the model.\n",
    "* `utilGenCapHVT[idxGen]`: Utilitzation rate for generators - measured as $\\sum_h E_{h,i} / (\\sum_{h}, q_{h,i})$.\n",
    "* `unitGenCapCosts[idxGen]`: Average costs for a generator taking fixed and investment costs into account. Measured on a yearly scale.\n",
    "* `pHr[idxHr]`: The dual value of the equilibrium constraint - interpreted as the marginal price in each hour.\n",
    "* `pAvg`: Average price over the year.\n",
    "* `pAvgGen[idxGen]`: The average price that different generators receive.\n",
    "* `downlift[idxGen]`: Difference between average market price and generator-specific price.\n",
    "* `mEV[idxGen]`: Marginal economic value of a generator, defined as the marginal increase in short run profits by increasing the generating capacity of a plant net of long run costs (`FOM`, `INVC`)."
   ]
  },
  {
   "cell_type": "code",
   "execution_count": 8,
   "id": "d0dc39a8-93bf-4724-96dc-5bca255ebf7c",
   "metadata": {},
   "outputs": [
    {
     "data": {
      "text/plain": [
       "dict_keys(['generation', 'demand', 'λeq_equilibrium', 'λl_generation', 'λl_demand', 'λu_generation', 'λu_demand', 'surplus', 'fuelCons', 'emissions', 'utilGenCap', 'utilGenCapHVT', 'unitGenCapCosts', 'pHr', 'pAvg', 'pAvgGen', 'downlift', 'mEV'])"
      ]
     },
     "execution_count": 8,
     "metadata": {},
     "output_type": "execute_result"
    }
   ],
   "source": [
    "solDict = m.postSolve(sol)\n",
    "solDict.keys()"
   ]
  },
  {
   "cell_type": "markdown",
   "id": "93eca9e2-09e8-4e0c-a015-cd308d6599a9",
   "metadata": {},
   "source": [
    "If we want, we can add this directly to our database in `self.db` by calling the `self.postSolveToDB` instead; this draws directly on our customized `self.postSolve` routine and so, we automatically get the new variables with us here:"
   ]
  },
  {
   "cell_type": "code",
   "execution_count": 9,
   "id": "1a76e4ce-a7a3-43ae-beeb-1dc8a3a958e5",
   "metadata": {},
   "outputs": [
    {
     "data": {
      "text/plain": [
       "idxHr  idxGen       \n",
       "h01    solar                0.00\n",
       "       wind_onshore     19794.60\n",
       "       wind_offshore        0.00\n",
       "       hydro            37579.86\n",
       "       nuclear           8640.00\n",
       "Name: generation, dtype: float64"
      ]
     },
     "execution_count": 9,
     "metadata": {},
     "output_type": "execute_result"
    }
   ],
   "source": [
    "m.postSolveToDB(sol) # add solution to internal daatbase instead\n",
    "m.db('generation').head() # look at solution for a bit"
   ]
  }
 ],
 "metadata": {
  "kernelspec": {
   "display_name": "Python 3 (ipykernel)",
   "language": "python",
   "name": "python3"
  },
  "language_info": {
   "codemirror_mode": {
    "name": "ipython",
    "version": 3
   },
   "file_extension": ".py",
   "mimetype": "text/x-python",
   "name": "python",
   "nbconvert_exporter": "python",
   "pygments_lexer": "ipython3",
   "version": "3.13.5"
  }
 },
 "nbformat": 4,
 "nbformat_minor": 5
}
