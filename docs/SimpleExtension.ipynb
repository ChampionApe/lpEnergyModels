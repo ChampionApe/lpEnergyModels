{
 "cells": [
  {
   "cell_type": "code",
   "execution_count": 1,
   "id": "aabdd2e9-acfd-466f-873f-2977e5c4724f",
   "metadata": {},
   "outputs": [],
   "source": [
    "%run stdPackages.ipynb\n",
    "from lpEnergyModels.mBasic import * # Load everything from the mBasic module"
   ]
  },
  {
   "cell_type": "markdown",
   "id": "87337b7c-e124-4dd2-94ba-c67dfae96661",
   "metadata": {},
   "source": [
    "*Note: \"`self`\" is a placeholder that refers to the class MBasic or a specific instance of the class.*"
   ]
  },
  {
   "cell_type": "markdown",
   "id": "ca968c48-0198-42b1-8c21-07a39b7c99d6",
   "metadata": {},
   "source": [
    "# How to do a simple extension"
   ]
  },
  {
   "cell_type": "markdown",
   "id": "2a6c34d3-5a9d-426f-a561-8730184c21bf",
   "metadata": {},
   "source": [
    "The notebook shows how to do a simple extension on an existing model class. Specifically, we explain the extension `MBasicEmCap(MBasic)` that adds an emissions cap to a simple power system model. This is a simple class extension in the sense that the existing model structure from `MBasic` is unchanged: The variables and variational constraints that we added to `MBasic` does not change in the current extension, we only add new components on top of it."
   ]
  },
  {
   "cell_type": "markdown",
   "id": "8181b3a9-223c-4d55-9c37-d31aeb87f336",
   "metadata": {},
   "source": [
    "## Model"
   ]
  },
  {
   "cell_type": "markdown",
   "id": "30a2ba26-3160-4722-a7f2-b2c6aa02b17f",
   "metadata": {},
   "source": [
    "The `MBasic` model solves for vectors of electricity generation ($E_i$ = `generation`) and demand levels ($D_{ic}$ = `demand`) by solving:\n",
    "$$\\begin{align}\n",
    "    &\\max\\mbox{ }\\sum_{ic}u_{ic} D_{ic} - \\sum_{i} c_i E_i \\tag{1A} \\\\\n",
    "    &\\text{s.t. }\\sum_{ic} D_{ic} = \\sum_i E_i \\tag{1B} \\\\\n",
    "    & E_i\\in[0,q_i], \\quad \\text{and} \\quad D_{ic} \\in[0, L_{ic}], \\tag{1C}\n",
    "\\end{align}$$\n",
    "and where the marginal costs of generation, $E_i$, are computed from:\n",
    "$$\\begin{align}\n",
    "    c_i = c_i^{oth} + \\sum_f \\mu_{f,i} (p_f + \\sum_{em} \\phi_{f,em}\\cdot\\tau_{em}) \\tag{2}, \n",
    "\\end{align}$$\n",
    "and where $i$ is the set of generators, $f$ the set of fuel types, $em$ the set of emission types, $ic$ the set of consumers, $p_f$ is the price of fuels, $\\phi_{f,em}$ the emission intensity, $c_i^{oth}$ captures \"other\" variable and operating costs than fuel and emisisons related costs, $\\mu_{f,i}$ indicates fuel intensities for generator $i$, $\\tau_{em}$ a tax on emissions, $q_i$ the installed generating capacity, $u_{ic}$ the marginal willingness to pay for consumers, $L_{ic}$ the total demand if the price does not exceed their marginal willingness to pay."
   ]
  },
  {
   "cell_type": "markdown",
   "id": "54283e7b-ef45-462d-85bd-018bc3e77ef1",
   "metadata": {},
   "source": [
    "The `MBasicEmcap` model adds a variational constraint, namely:\n",
    "\n",
    "$$\\begin{align}\n",
    "    \\sum_{i} E_i \\left(\\sum_f\\mu_{f,i} \\phi_{f,em}\\right) \\leq \\overline{M}_{em}, \\tag{3}\n",
    "\\end{align}$$\n",
    "where $\\overline{M}_{em}$ is a cap on emissions and $\\left(\\sum_f\\mu_{f,i} \\phi_{f,em}\\right)$ measures the emission intensity of a generator, i.e. the ton of emissions that comes with 1 GJ of output generated. "
   ]
  },
  {
   "cell_type": "markdown",
   "id": "41990e1b-4555-400e-a364-f1cd3e488854",
   "metadata": {},
   "source": [
    "As always, we refer to the \"augmented form\" of the model as the one that stacks constraints and variables to the format:\n",
    "$$\\begin{align} \n",
    "    &\\min_{x} \\ c^T\\cdot x \\tag{4A}\\\\ \n",
    "    &A_{ub}\\times x \\leq b_{ub} \\tag{4B}\\\\ \n",
    "    &A_{eq}\\times x  = b_{eq} \\tag{4C}\\\\ \n",
    "    &l\\leq x\\leq u, \\tag{4D}\n",
    "\\end{align}$$\n",
    "where: \n",
    "* $x$ is the vector of choice variables of length ($N$).\n",
    "* $c, l, u$ are coefficient vectors of the same length ($N$).\n",
    "* $b_{eq}, b_{ub}$ are coefficient vectors of lengths $N_{eq}, N_{ub}$, \n",
    "* and $A_{eq}, A_{ub}$ are coefficient matrices of sizes $(N_{eq}\\times N)$ and $(N_{ub} \\times N)$ respectively."
   ]
  },
  {
   "cell_type": "markdown",
   "id": "b1bc8c5e-8b87-4b30-8ff2-a80ba740b481",
   "metadata": {},
   "source": [
    "## Class extension "
   ]
  },
  {
   "cell_type": "markdown",
   "id": "5ba1a232-22e0-48a1-bf6f-757144eabe38",
   "metadata": {},
   "source": [
    "This simple class extension can be added through adding two small methods. Here is a copy of the entire class:"
   ]
  },
  {
   "cell_type": "markdown",
   "id": "3a9d27ae-8fc8-411d-a78d-26acc5cd0228",
   "metadata": {},
   "source": [
    "We add a new variational constraint by first declaring it in the `self.sys.ub` dictionary:\n",
    "```python \n",
    "class MBasicEmCap(MBasic):\n",
    "\t# Add additional constraint:\n",
    "\tdef initArgs_ub(self):\n",
    "\t\t\"\"\" self.sys.ub dictionary\"\"\"\n",
    "\t\tself.sys.ub.update({'emCap': self.db('idxEm')})\n",
    "\n",
    "\tdef initArgsUb_emCap(self):\n",
    "\t\tself.sys.lazyA('emCap2Gen', series = plantEmissionIntensity(self.db('uFuel'),self.db('uEm')),  v = 'generation', constr = 'emCap',attr='ub')\n",
    "\t\tself.sys.lp['b_ub'][('emCap','emCap')] = self.db('emCap')\n",
    "```\n",
    "\n",
    "*Note that because the `MBasic` model did not have any inequality constraints, we add the new methods here without calling `super()`.*\n",
    "\n",
    "Note that due to the structure of our model classes, the `self.compile` method automatically executes these methods at the right time - we do not have to add them anywhere else:  `self.initArgs_ub` is always called and `self.initArgsUb_emCap` is called *because* we have specified that the model now contains a variational constraint named `emCap`.\n",
    "\n",
    "The following lines of code loads data and builds the model and its components:"
   ]
  },
  {
   "cell_type": "code",
   "execution_count": 2,
   "id": "df58f91f-32d9-4cde-adb6-bf0f642b4deb",
   "metadata": {},
   "outputs": [],
   "source": [
    "testData = os.path.join(_d['data'],'EX_MBasic.xlsx')\n",
    "data = pyDbs.ExcelSymbolLoader(testData)() # read data in a dict \n",
    "m = MBasicEmCap() # initialize model\n",
    "[m.db.__setitem__(k, v) for k,v in data.items() if k!='__meta__']; # add data to model database\n",
    "m.compile(); # build LP structure"
   ]
  },
  {
   "cell_type": "markdown",
   "id": "52deafce-62c5-41a9-916a-da136c98346b",
   "metadata": {},
   "source": [
    "The two methods specify how to add the constraint to the underlying `self.sys`. \n",
    "\n",
    "The first method `self.initArgs_ub` adds that we now have a new variational constraint named `emCap` and that this is defined on the emission index `idxEm`:"
   ]
  },
  {
   "cell_type": "code",
   "execution_count": 3,
   "id": "6843e96e-8d59-4249-8ce0-0ba84d108b42",
   "metadata": {},
   "outputs": [
    {
     "data": {
      "text/plain": [
       "{'emCap': Index(['CO2'], dtype='object', name='idxEm')}"
      ]
     },
     "execution_count": 3,
     "metadata": {},
     "output_type": "execute_result"
    }
   ],
   "source": [
    "m.sys.ub # look at ub constraints and their relevant domains"
   ]
  },
  {
   "cell_type": "markdown",
   "id": "5429434d-5db6-4c42-987d-bcccf6dba6e6",
   "metadata": {},
   "source": [
    "The second method specifies parameters for \"augmented linear programming form\". The first line of code specifies that the variable `generation` enters the constraint `emCap` proportional to the relevant generators' emission intensity. The emission intensity is computed calling the local method `plantEmissionIntensity(uFuel, uEm)` that computes this sum $\\left(\\sum_f\\mu_{f,i} \\phi_{f,em}\\right)$. "
   ]
  },
  {
   "cell_type": "code",
   "execution_count": 4,
   "id": "f197793f-4ee0-40fa-b81a-39f1fbd46f97",
   "metadata": {},
   "outputs": [
    {
     "data": {
      "text/plain": [
       "idxGen   idxEm\n",
       "biomass  CO2      0.0000\n",
       "coal     CO2      0.2632\n",
       "natgas   CO2      0.1288\n",
       "nuclear  CO2      0.0030\n",
       "solar    CO2      0.0000\n",
       "wind     CO2      0.0000\n",
       "dtype: float64"
      ]
     },
     "execution_count": 4,
     "metadata": {},
     "output_type": "execute_result"
    }
   ],
   "source": [
    "plantEmissionIntensity(m.db('uFuel'), m.db('uEm'))"
   ]
  },
  {
   "cell_type": "markdown",
   "id": "fcfa01fe-e1df-4e6f-9f94-0bce8c9b1ae2",
   "metadata": {},
   "source": [
    "We add this to the model using the `self.sys.lazyA` method (see documentation for `LPSys` [here](https://github.com/ChampionApe/symMaps/blob/main/docs_LPSys.ipynb)) which automatically checks a couple of things when adding it to the matrix `A_ub` (augmented form). We can check that the argument has a valid form by calling:"
   ]
  },
  {
   "cell_type": "code",
   "execution_count": 7,
   "id": "a2bb7e29-d98b-4807-b474-81d28b32b952",
   "metadata": {},
   "outputs": [],
   "source": [
    "m.sys.validateA('emCap2Gen','ub')"
   ]
  },
  {
   "cell_type": "markdown",
   "id": "fdaa8e0f-afa8-47a0-9871-a852e1f339da",
   "metadata": {},
   "source": [
    "This looks for the element `emCap2Gen` (that we just added) in the `self.sys.lp['A_ub']` dictionary that contains all coefficients that goes into the `A_ub` matrix. If the component does not have the right shape or is inconsistent with the domains we have declared under `self.sys.ub`, this raises an error and points to the problem. As it does not raise an error, everything is okay here.\n",
    "\n",
    "Note that we can run a similar check on *all* structures that we have added so far by calling (same idea, it raises an error if there is an issue):"
   ]
  },
  {
   "cell_type": "code",
   "execution_count": 8,
   "id": "c14284e0-1c1c-4669-bbf5-d5fa39234847",
   "metadata": {},
   "outputs": [],
   "source": [
    "m.sys.validateAll()"
   ]
  },
  {
   "cell_type": "markdown",
   "id": "5411a27b-bd4b-4a82-b0b9-6bf232719cec",
   "metadata": {},
   "source": [
    "The final line adds the part that goes to the constant `b_ub`: This is simply the emissions cap `emCap` that we can find in the data. We can validate that this structure is consistent as well:"
   ]
  },
  {
   "cell_type": "code",
   "execution_count": 12,
   "id": "537516ec-a59c-4a97-b062-779f24c81456",
   "metadata": {},
   "outputs": [],
   "source": [
    "m.sys.validateV('emCap', 'b_ub')"
   ]
  }
 ],
 "metadata": {
  "kernelspec": {
   "display_name": "Python 3 (ipykernel)",
   "language": "python",
   "name": "python3"
  },
  "language_info": {
   "codemirror_mode": {
    "name": "ipython",
    "version": 3
   },
   "file_extension": ".py",
   "mimetype": "text/x-python",
   "name": "python",
   "nbconvert_exporter": "python",
   "pygments_lexer": "ipython3",
   "version": "3.13.5"
  }
 },
 "nbformat": 4,
 "nbformat_minor": 5
}
