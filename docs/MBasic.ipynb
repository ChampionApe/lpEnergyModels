{
 "cells": [
  {
   "cell_type": "code",
   "execution_count": 1,
   "id": "40604d48-3a3b-4c16-a484-c35aac059619",
   "metadata": {},
   "outputs": [],
   "source": [
    "%run stdPackages.ipynb\n",
    "from lpEnergyModels.mBasic import * # Load everything from the mBasic module\n",
    "import pickle"
   ]
  },
  {
   "cell_type": "markdown",
   "id": "bf9442a4-799d-4df6-b206-9c2e0d06cadf",
   "metadata": {},
   "source": [
    "*Note: \"`self`\" is a placeholder that refers to the class MBasic or a specific instance of the class.*"
   ]
  },
  {
   "cell_type": "markdown",
   "id": "727bcf52-d797-4a57-8530-b642b6310436",
   "metadata": {},
   "source": [
    "# The MBasic class"
   ]
  },
  {
   "cell_type": "markdown",
   "id": "e4218f4a-41d3-4b2a-be34-4a3df9f46233",
   "metadata": {},
   "source": [
    "The `MBasic` class builds primarily on three other classes: (1) The model structure class `symMaps.ModelShell`, (2) the linear programming class `symMaps.LPSys`, and (3) the database class `pyDbs.SimpleDB`. The relevant packages are documented here: \n",
    "* [GitHub: ChampionApe/symMaps](https://github.com/ChampionApe/symMaps)\n",
    "* [GitHub: ChampionApe/pyDbs](https://github.com/ChampionApe/pyDbs).\n",
    "\n",
    "The class `MBasic(ModelShell`) builds directly on the `symMaps.ModelShell` class. To each model instance, we set an attribute `self.sys` as the instance of the linear programming class `symMaps.LPSys` and a database instance `symMaps.SimpleDB` as the attribute `self.sys.db` (which can be accessed by calling `self.db` as well). "
   ]
  },
  {
   "cell_type": "markdown",
   "id": "4f794504-2844-4b1e-bc47-c45993bfbf8b",
   "metadata": {},
   "source": [
    "The relevant Github pages include notebooks that more carefully describe the different classes. Here, we go through three steps: Data, model formulation, and solution."
   ]
  },
  {
   "cell_type": "markdown",
   "id": "5e0a4150-07d0-4e1e-9aa7-91e5fc185256",
   "metadata": {},
   "source": [
    "## 1. Data"
   ]
  },
  {
   "cell_type": "markdown",
   "id": "dd7b0adc-ed18-467e-9862-0d39f0c7f6a3",
   "metadata": {},
   "source": [
    "The model is a very simple power system model that is defined over four indices (parentheses indicate symbols used in plain math below).\n",
    "* ```idxGen``` ($i$): Set of electricity generators.\n",
    "* ```idxF``` ($f$): Set of fuel types that generators may use.\n",
    "* ```idxEm``` ($em$): Set of emission types included in the model.\n",
    "* ```idxCons``` ($ic$): Set of consumers in the power market.\n",
    "\n",
    "\n",
    "The model requires the following data to run:\n",
    "* ```pFuel(idxF)``` ($p_f$): Fuel price. Default unit: €/GJ. \n",
    "* ```uEm(idxF, idxEm)``` ($\\phi_{f,em}$): Emission intensity. Default unit: Ton emission/GJ fuel input. \n",
    "* ```VOM(idxGen)``` ($c_i^{oth}$): variable operating and maintenance costs. Default unit: €/GJ output.\n",
    "* ```uFuel(idxF, idxGen)``` ($\\mu_{f,i}$): Fuelmix. Default unit: GJ input/GJ output.\n",
    "* ```taxEm(idxEm)``` ($\\tau_{em}$): Tax on emissions. Default unit: €/ton emission output.\n",
    "* ```genCap(idxGen)``` ($q_i$): Generating capacity. Default unit: GJ/hour.\n",
    "* ```mwp(idxCons)``` ($u_{ic}$): Marginal willingness to pay for consumers. Default unit: €/GJ. \n",
    "* ```load(idxCons)``` ($L_{ic}$): Total demand for consumers if the price does not exceed their marginal willingness to pay. Default unit: GJ."
   ]
  },
  {
   "cell_type": "markdown",
   "id": "42aba007-2e4b-450a-a209-7f382f476f6d",
   "metadata": {},
   "source": [
    "The excel file `data/EX_MBasic.xlsx` in the data repo contains an example of the relevant data outlined above (except for values for the endogenous variables $E_i, D_{ic}$ that we are going to solve for). The file `data/EX_MBasic.pkl` in the data repo contains a pickled example of the excel data after reading it using the `pyDbs.ExcelSymbolLoadear` class.\n",
    "\n",
    "This reads in the data and initializes a model instance that we can use to test out various methods:"
   ]
  },
  {
   "cell_type": "code",
   "execution_count": 2,
   "id": "744e3ed6-b8cd-48d2-839f-34e9eb03af89",
   "metadata": {},
   "outputs": [],
   "source": [
    "testData = os.path.join(_d['data'],'EX_MBasic.xlsx')\n",
    "data = pyDbs.ExcelSymbolLoader(testData)() # read data in a dict \n",
    "m = MBasic() # initialize model\n",
    "[m.db.__setitem__(k, v) for k,v in data.items() if k!='__meta__']; # add data to model database"
   ]
  },
  {
   "cell_type": "markdown",
   "id": "b1fd2302-a4e6-47e7-8dc1-7880f0e71e12",
   "metadata": {},
   "source": [
    "We can inspect the data from the database by calling:"
   ]
  },
  {
   "cell_type": "code",
   "execution_count": 3,
   "id": "e3907151-552f-4737-8460-8c53ee6dcec5",
   "metadata": {},
   "outputs": [
    {
     "data": {
      "text/plain": [
       "Index(['wind', 'solar', 'nuclear', 'biomass', 'natgas', 'coal'], dtype='object', name='idxGen')"
      ]
     },
     "execution_count": 3,
     "metadata": {},
     "output_type": "execute_result"
    }
   ],
   "source": [
    "m.db('idxGen') # inspect  index of generators included in the model"
   ]
  },
  {
   "cell_type": "markdown",
   "id": "4b4e28e5-aa6b-4fd8-8cab-1b475f9c72c7",
   "metadata": {},
   "source": [
    "Save pickle instance:"
   ]
  },
  {
   "cell_type": "code",
   "execution_count": 4,
   "id": "c9c4e5ac-ede5-4f11-a602-0649aa41a7ff",
   "metadata": {},
   "outputs": [],
   "source": [
    "with open (os.path.join(_d['data'], 'EX_MBasic.pkl'), \"wb\") as file:\n",
    "    pickle.dump(data, file)"
   ]
  },
  {
   "cell_type": "markdown",
   "id": "71cd9aec-28a7-4042-b6fe-13804183e59f",
   "metadata": {},
   "source": [
    "## 2. Model formulation"
   ]
  },
  {
   "cell_type": "markdown",
   "id": "8b9c6128-e61d-4acb-a577-daa32e9eac08",
   "metadata": {},
   "source": [
    "### A. Formal setup"
   ]
  },
  {
   "cell_type": "markdown",
   "id": "c308cff3-68ca-4267-ab2b-48b511ff5fc0",
   "metadata": {},
   "source": [
    "**Formal optimization problem:**"
   ]
  },
  {
   "cell_type": "markdown",
   "id": "9e7d5468-cde0-4d80-aeb7-2775d416eed8",
   "metadata": {},
   "source": [
    "The model solves for vectors of electricity generation ($E_i$ = `generation`) and demand levels ($D_{ic}$ = `demand`) by solving:\n",
    "$$\\begin{align}\n",
    "    &\\max\\mbox{ }\\sum_{ic}u_{ic} D_{ic} - \\sum_{i} c_i E_i \\tag{1A} \\\\\n",
    "    &\\text{s.t. }\\sum_{ic} D_{ic} = \\sum_i E_i \\tag{1B} \\\\\n",
    "    & E_i\\in[0,q_i], \\quad \\text{and} \\quad D_{ic} \\in[0, L_{ic}], \\tag{1C}\n",
    "\\end{align}$$\n",
    "and where the marginal costs of generation, $E_i$, are computed from:\n",
    "$$\\begin{align}\n",
    "    c_i = c_i^{oth} + \\sum_f \\mu_{f,i} (p_f + \\sum_{em} \\phi_{f,em}\\cdot\\tau_{em}) \\tag{2}\n",
    "\\end{align}$$"
   ]
  },
  {
   "cell_type": "markdown",
   "id": "a7f0e523-0c17-4a90-b7f7-9f4f06796f07",
   "metadata": {},
   "source": [
    "**Augmented form:**"
   ]
  },
  {
   "cell_type": "markdown",
   "id": "f7ddfede-7604-41e7-8321-0b944b3ec1f0",
   "metadata": {},
   "source": [
    "The actual structure of the problem is handled by the `symMaps.LPSys`class, which is designed for Linear Programming (LP) problems. This means that we have to formulate the math in the following canonical form (we'll refer to this as an \"augmented form\"):\n",
    "$$\\begin{align} \n",
    "    &\\min_{x} \\ c^T\\cdot x \\tag{3A}\\\\ \n",
    "    &A_{ub}\\times x \\leq b_{ub} \\tag{3B}\\\\ \n",
    "    &A_{eq}\\times x  = b_{eq} \\tag{3C}\\\\ \n",
    "    &l\\leq x\\leq u, \\tag{3D}\n",
    "\\end{align}$$\n",
    "where: \n",
    "* $x$ is the vector of choice variables of length ($N$).\n",
    "* $c, l, u$ are coefficient vectors of the same length ($N$).\n",
    "* $b_{eq}, b_{ub}$ are coefficient vectors of lengths $N_{eq}, N_{ub}$, \n",
    "* and $A_{eq}, A_{ub}$ are coefficient matrices of sizes $(N_{eq}\\times N)$ and $(N_{ub} \\times N)$ respectively.\n",
    "\n",
    "We generally refer to (3B)-(3C) as variational constraints, and (3D) as domain constraints."
   ]
  },
  {
   "cell_type": "markdown",
   "id": "8193ed93-bf39-442c-86c2-da628585ebc8",
   "metadata": {},
   "source": [
    "### B. Add model structure -  `self.compile`"
   ]
  },
  {
   "cell_type": "markdown",
   "id": "7d9c7b6b-d8c7-4894-996a-4505b86878bc",
   "metadata": {},
   "source": [
    "The method `self.compile` adds the model in equations (1)-(2) to the linear programming system `self.sys` consistent with the structure in equations (3). This is done in three steps:\n",
    "1. Specify fundamentals: Provide variables and variational constraints in (1) and what sets/domains they are defined over.\n",
    "2. An auxiliary calculations step: Provides a way of computing variables before the optimization, in our instance to calculate $c_i$ in (2) without adding this as a variational constraint in the LP model.\n",
    "3. Add/specify parameters $c^T, A_{ub}, A_{eq}, b_{ub}, b_{eq}, l, u$."
   ]
  },
  {
   "cell_type": "markdown",
   "id": "8eaef845-16a2-4a02-a8ad-b4dabbe25ddd",
   "metadata": {},
   "source": [
    "####  *i)* Fundamentals - `self.compileMaps()`"
   ]
  },
  {
   "cell_type": "markdown",
   "id": "f7309011-8eac-4f07-886f-1b08e0e7d906",
   "metadata": {},
   "source": [
    "The `self.compileMaps` starts by declaring domains of variables (in method `self.initArgs_v`), equality constraints (in method `self.initArgs_eq`), and inequality constraints (in method `self.initArgs_ub`). In this model, we have:\n",
    "* Two variables: `generation` ($E_i$) defined over the index `idxGen` ($i$) and `demand` defined over the consumer index `idxCons`.\n",
    "* One constraint: `equilibrium` which is a scalar constraint (index `None`).\n",
    "\n",
    "Note that we include the auxiliary calculation for marginal costs $c_i$ outside the linear programming system; we revisit this below."
   ]
  },
  {
   "cell_type": "markdown",
   "id": "0fcaa26b-c7a2-4cb4-92c1-0e968db2879d",
   "metadata": {},
   "source": [
    "With this structure in place, the `self.compileMaps` method then applies `self.sys.compileMaps` which establishes the global indices for variables and constraints: "
   ]
  },
  {
   "cell_type": "code",
   "execution_count": 5,
   "id": "793df5f4-9267-4c36-819f-1b3c5ffd776e",
   "metadata": {},
   "outputs": [
    {
     "data": {
      "text/plain": [
       "{'generation': Index(['wind', 'solar', 'nuclear', 'biomass', 'natgas', 'coal'], dtype='object', name='idxGen'),\n",
       " 'demand': Index(['residential', 'industrial'], dtype='object', name='idxCons')}"
      ]
     },
     "execution_count": 5,
     "metadata": {},
     "output_type": "execute_result"
    }
   ],
   "source": [
    "m.compileMaps()\n",
    "m.sys.v # look at the mapping from variable names to their relevant domains"
   ]
  },
  {
   "cell_type": "markdown",
   "id": "aa55fcf8-98b8-42c7-8e7b-0509fae2133a",
   "metadata": {},
   "source": [
    "####  *ii)* Auxiliary calculations - `self.updateAux`"
   ]
  },
  {
   "cell_type": "markdown",
   "id": "1f4f605e-daaa-4383-90f6-b146d1277b06",
   "metadata": {},
   "source": [
    "In the next step, we compute auxiliary variables. For this model, that means adding marginal costs `mc` to the `self.db` (following equation for $c_i$ above). "
   ]
  },
  {
   "cell_type": "code",
   "execution_count": 6,
   "id": "649c22d0-0ef2-41b2-8e83-3fbf0a11b824",
   "metadata": {},
   "outputs": [
    {
     "data": {
      "text/plain": [
       "idxGen\n",
       "biomass    14.00\n",
       "coal       22.66\n",
       "natgas     27.84\n",
       "nuclear     2.15\n",
       "solar       1.00\n",
       "wind        1.00\n",
       "dtype: float64"
      ]
     },
     "execution_count": 6,
     "metadata": {},
     "output_type": "execute_result"
    }
   ],
   "source": [
    "m.updateAux()\n",
    "m.db('mc') # inspect the marginal costs that we have added to the database"
   ]
  },
  {
   "cell_type": "markdown",
   "id": "6b0c8ebd-5b77-45d0-87af-e38e8af94cf4",
   "metadata": {},
   "source": [
    "We implement this as a standard method in the class because we expect many scenarios likely involve recomputing this object. "
   ]
  },
  {
   "cell_type": "markdown",
   "id": "1bc2871d-995e-409d-9ec1-fd9a022bb1e2",
   "metadata": {},
   "source": [
    "####  *iii)* Specify parameters for `LPSys` - `self.compileParams`"
   ]
  },
  {
   "cell_type": "markdown",
   "id": "fe16db02-7582-4b01-b002-88ec80ce01ae",
   "metadata": {},
   "source": [
    "We specify the parameters for the `LPSys` method going through (1) adding coefficients on variables (`c`, `u`, `l`), (2) equality constraints (`A_eq`, `b_eq`), and (3) inequality constraints (`A_ub`, `b_ub`)."
   ]
  },
  {
   "cell_type": "markdown",
   "id": "83a71585-dd7a-4871-98d9-fa4cababf14c",
   "metadata": {},
   "source": [
    "**Coefficients on variables:**"
   ]
  },
  {
   "cell_type": "markdown",
   "id": "9374d761-67b2-488b-bb05-4749bea7deba",
   "metadata": {},
   "source": [
    "In our model, we have two variables to solve for `generation` and `demand`. We specify the coefficients (`c`, `l`, `u`) for each of the variables using methods with syntax `f'self.initArgsV_{k}'` with `k` representing the variable name (from `self.sys.v`). Specifically, we call the following:\n",
    "```python\n",
    "    [getattr(self, f'initArgsV_{k}')() for k in self.sys.v]; # specify c,l,u for all variables\n",
    "```\n",
    "Thus, if we extend the model with a new variable, we add it to `self.sys.v` (specify its domains) and add a method `self.initArgsV_{k}` that specifies the costs, lower bound, and upper bound. Given this, the `self.compile` method automatically includes this."
   ]
  },
  {
   "cell_type": "markdown",
   "id": "0d80e1b8-ea96-477e-93eb-24f8ee8bae52",
   "metadata": {},
   "source": [
    "For the `generation` variable, for instance, we add the following:\n",
    "\n",
    "```python\n",
    "def initArgsV_generation(self):\n",
    "\tself.sys.lp['c'][('mc', 'generation')] = self.db('mc') \n",
    "\tself.sys.lp['u'][('genCap', 'generation')] = self.db('genCap') \n",
    "```\n",
    "We do not specify a lower bound, as the default is simply zero here."
   ]
  },
  {
   "cell_type": "markdown",
   "id": "4a6c8295-6ed2-4fd5-a6f0-0122e015dd34",
   "metadata": {},
   "source": [
    "**Equality constraints:**"
   ]
  },
  {
   "cell_type": "markdown",
   "id": "668cf79a-9098-4fc6-82f3-62ceecb2b4e5",
   "metadata": {},
   "source": [
    "Variational constraints (equality/inequality) are added in a similar manner as the coefficients on parameters:for equality constraints, we iterate through methods following a specific syntax `f'self.initArgsEq_{k}'`where `k` represents the specific constraint (from `self.sys.eq`). For inequality constraints, we simply replace `eq` with `ub`."
   ]
  },
  {
   "cell_type": "markdown",
   "id": "0b072c2d-4c8a-4233-b252-2515bf2a3086",
   "metadata": {},
   "source": [
    "In this model, we have a single variational constraint in this model, namely the `equilibrium` one. Here we simply add:\n",
    "```python\n",
    "def initArgsEq_equilibrium(self):\n",
    "\tself.sys.lazyA('eq2Gen', series = 1,  v = 'generation', constr = 'equilibrium',attr='eq')\n",
    "\tself.sys.lazyA('eq2Dem', series = -1, v = 'demand', constr = 'equilibrium',attr='eq')\n",
    "```\n",
    "We rely on the `lazyA` method for adding the coefficients on `generation` and `demand`; this broadcasts the scalars (1 and -1, respectively) to the full domain of the constraint/variable. If the constraint requires a constant different from zero, we would have added it here to the `self.sys.lp['b_eq']` structure. Without adding any, the compiler defaults to zero. "
   ]
  },
  {
   "cell_type": "markdown",
   "id": "7db0e2d9-3e40-425d-a129-3271530fd283",
   "metadata": {},
   "source": [
    "The `self.compileParams` sets up the structure and returns the `self.sys.out` that can be passed to the linear programming solver: "
   ]
  },
  {
   "cell_type": "code",
   "execution_count": 7,
   "id": "c111b4dc-f36f-4d47-9595-987d849dc501",
   "metadata": {},
   "outputs": [
    {
     "data": {
      "text/plain": [
       "{'c': array([  1.  ,   1.  ,   2.15,  14.  ,  27.84,  22.66, -30.  , -25.  ]),\n",
       " 'A_ub': <COOrdinate sparse array of dtype 'float64'\n",
       " \twith 0 stored elements and shape (0, 8)>,\n",
       " 'b_ub': array([], dtype=float64),\n",
       " 'A_eq': <COOrdinate sparse array of dtype 'int64'\n",
       " \twith 8 stored elements and shape (1, 8)>,\n",
       " 'b_eq': array([0.]),\n",
       " 'bounds': array([[   0.,  720.],\n",
       "        [   0.,  360.],\n",
       "        [   0., 3600.],\n",
       "        [   0.,  180.],\n",
       "        [   0., 1440.],\n",
       "        [   0., 2880.],\n",
       "        [   0., 2000.],\n",
       "        [   0., 7000.]])}"
      ]
     },
     "execution_count": 7,
     "metadata": {},
     "output_type": "execute_result"
    }
   ],
   "source": [
    "m.compileParams()"
   ]
  },
  {
   "cell_type": "markdown",
   "id": "abd636a2-2066-46fb-9f3d-c6c426276fae",
   "metadata": {},
   "source": [
    "## 3. Post solution routine - `self.postSolve`"
   ]
  },
  {
   "cell_type": "markdown",
   "id": "af0fabf0-97bc-4b8c-b3dd-ae6faee743e0",
   "metadata": {},
   "source": [
    "The steps above can be summarized by the following two calls:"
   ]
  },
  {
   "cell_type": "code",
   "execution_count": 8,
   "id": "6379ac75-b61c-4c80-a86c-061c9b88fb28",
   "metadata": {},
   "outputs": [],
   "source": [
    "m.compile()\n",
    "sol = m.solve()"
   ]
  },
  {
   "cell_type": "markdown",
   "id": "3b0db2eb-0382-4d6d-aa4d-a14b305669c3",
   "metadata": {},
   "source": [
    "The `sol` is the solution object returned from `scipy.optimize.linprog`. Note that the `self.solve` includes an assertion that `sol['status'] == 0`, i.e. it raises an error if the optimization is not successful. For this model, we implement the following small `postSolve` routine:\n",
    "```python\n",
    "def postSolve(self, sol, **kwargs):\n",
    "\tsolDict = super().postSolve(sol)\n",
    "\tsolDict['surplus'] = -sol['fun']\n",
    "\tsolDict['fuelCons'] = fuelConsumption(solDict['generation'], self.db('uFuel'))\n",
    "\tsolDict['emissions'] = emissionsFuel(solDict['fuelCons'], self.db('uEm'))\n",
    "\treturn solDict\n",
    "```"
   ]
  },
  {
   "cell_type": "markdown",
   "id": "23619f9f-16bf-4a78-b204-e792fe43f157",
   "metadata": {},
   "source": [
    "Recall that the parent class (`ModelShell`) simply returns a dictionary with solution variables (`generation`, `demand`) and dual variables for variational constrains and domain constraints. On top of this, we add three variables: (1) A surplus, (2) fuel consumption, and (3) emissions. The `fuelConsumption` and `emissionsFuel` statements refer to locally defined functions. The solution from this statement:"
   ]
  },
  {
   "cell_type": "code",
   "execution_count": 9,
   "id": "a1b14947-4472-4440-a1cb-61c99b0076df",
   "metadata": {},
   "outputs": [
    {
     "data": {
      "text/plain": [
       "dict_keys(['generation', 'demand', 'λeq_equilibrium', 'λl_generation', 'λl_demand', 'λu_generation', 'λu_demand', 'surplus', 'fuelCons', 'emissions'])"
      ]
     },
     "execution_count": 9,
     "metadata": {},
     "output_type": "execute_result"
    }
   ],
   "source": [
    "solDict = m.postSolve(sol)\n",
    "solDict.keys()"
   ]
  },
  {
   "cell_type": "markdown",
   "id": "8364203b-8a2e-4099-ab9c-ae75d25845f6",
   "metadata": {},
   "source": [
    "If we want, we can add this directly to our database in `self.db` by calling the `self.postSolveToDB` instead; this draws directly on our customized `self.postSolve` routine and so, we automatically get the new variables with us here:"
   ]
  },
  {
   "cell_type": "code",
   "execution_count": 10,
   "id": "2efadb72-743f-48f6-bf94-abf32421e382",
   "metadata": {},
   "outputs": [
    {
     "data": {
      "text/plain": [
       "idxGen\n",
       "wind        720.0\n",
       "solar       360.0\n",
       "nuclear    3600.0\n",
       "biomass     180.0\n",
       "natgas        0.0\n",
       "Name: generation, dtype: float64"
      ]
     },
     "execution_count": 10,
     "metadata": {},
     "output_type": "execute_result"
    }
   ],
   "source": [
    "m.postSolveToDB(sol) # add solution to internal daatbase instead\n",
    "m.db('generation').head() # look at solution for a bit"
   ]
  }
 ],
 "metadata": {
  "kernelspec": {
   "display_name": "Python 3 (ipykernel)",
   "language": "python",
   "name": "python3"
  },
  "language_info": {
   "codemirror_mode": {
    "name": "ipython",
    "version": 3
   },
   "file_extension": ".py",
   "mimetype": "text/x-python",
   "name": "python",
   "nbconvert_exporter": "python",
   "pygments_lexer": "ipython3",
   "version": "3.13.5"
  }
 },
 "nbformat": 4,
 "nbformat_minor": 5
}
