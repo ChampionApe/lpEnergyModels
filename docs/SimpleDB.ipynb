{
 "cells": [
  {
   "cell_type": "code",
   "execution_count": 1,
   "id": "6280b5f9-def2-49f0-b0a6-c7589045c756",
   "metadata": {},
   "outputs": [],
   "source": [
    "%run stdPackages.ipynb\n",
    "import lpEnergyModels # import energy models"
   ]
  },
  {
   "cell_type": "markdown",
   "id": "933befab-eada-4375-aab1-918896d9842b",
   "metadata": {},
   "source": [
    "# Examples using  `pyDbs.SimpleDB`"
   ]
  },
  {
   "cell_type": "markdown",
   "id": "cad3bbfc-f4ee-40b6-8231-4aae9d755cb9",
   "metadata": {},
   "source": [
    "The notebook shows basic usage for the class `pyDbs.SimpleDB`. A more comprehensive documentation is at [fullDocs_SimpleDB.ipynb](fullDocs_SimpleDB.ipynb)."
   ]
  },
  {
   "cell_type": "markdown",
   "id": "930ca756-6ab8-41c3-959f-f9a36d966282",
   "metadata": {},
   "source": [
    "**Initialize and add symbols:**"
   ]
  },
  {
   "cell_type": "code",
   "execution_count": 2,
   "id": "37e8a0e9-a481-4cca-bb34-508832d7f9ef",
   "metadata": {},
   "outputs": [],
   "source": [
    "db = pyDbs.SimpleDB() # initialize empty database\n",
    "db['mySet'] = pd.Index(range(5), name = 'mySet') # add set\n",
    "db['my2dSet'] = pd.MultiIndex.from_product([db('mySet'), pd.Index(range(10,21), name = 'myOtherSet')])\n",
    "db['myVar'] = pd.Series(1, index = db('mySet')) # add variable from pandas series\n",
    "db['myScalar'] = 1 # add scalar"
   ]
  },
  {
   "cell_type": "markdown",
   "id": "176e072c-2bdb-4725-9761-9aa78731d9be",
   "metadata": {},
   "source": [
    "*Note: The `__setitem__`  method is constructed to run pandas objects and scalars through a small helper function and create `pyDbs.Gpy_` instances.*"
   ]
  },
  {
   "cell_type": "markdown",
   "id": "baca0bf3-af11-4eea-9bba-b367cc19b629",
   "metadata": {},
   "source": [
    "**Access symbols with pandas representation - the `__call__` method:**"
   ]
  },
  {
   "cell_type": "markdown",
   "id": "e92d41f1-48fd-41da-b2da-6636d2623fa9",
   "metadata": {},
   "source": [
    "*Get set as pandas index:*"
   ]
  },
  {
   "cell_type": "code",
   "execution_count": 3,
   "id": "20df8e47-4aa3-42bf-a3b1-67a7d31356f3",
   "metadata": {},
   "outputs": [
    {
     "data": {
      "text/plain": [
       "RangeIndex(start=0, stop=5, step=1, name='mySet')"
      ]
     },
     "execution_count": 3,
     "metadata": {},
     "output_type": "execute_result"
    }
   ],
   "source": [
    "db('mySet') # return pandas index"
   ]
  },
  {
   "cell_type": "markdown",
   "id": "673d91b5-bde1-4457-b494-05f430e3214f",
   "metadata": {},
   "source": [
    "*Get variable as pandas series:*"
   ]
  },
  {
   "cell_type": "code",
   "execution_count": 4,
   "id": "5b1c13c1-bae2-4297-bbb3-e078a3501bb0",
   "metadata": {},
   "outputs": [
    {
     "data": {
      "text/plain": [
       "mySet\n",
       "0    1\n",
       "1    1\n",
       "2    1\n",
       "3    1\n",
       "4    1\n",
       "dtype: int64"
      ]
     },
     "execution_count": 4,
     "metadata": {},
     "output_type": "execute_result"
    }
   ],
   "source": [
    "db('myVar')"
   ]
  },
  {
   "cell_type": "markdown",
   "id": "5b3bfa2a-409e-46af-9f65-6edc9e6e0f01",
   "metadata": {},
   "source": [
    "*Get scalar:*"
   ]
  },
  {
   "cell_type": "code",
   "execution_count": 5,
   "id": "91057c69-6785-4604-a9ce-36a1893282d1",
   "metadata": {},
   "outputs": [
    {
     "data": {
      "text/plain": [
       "1"
      ]
     },
     "execution_count": 5,
     "metadata": {},
     "output_type": "execute_result"
    }
   ],
   "source": [
    "db('myScalar')"
   ]
  },
  {
   "cell_type": "markdown",
   "id": "05f32955-bce4-48a4-86f3-32a0c3edd087",
   "metadata": {},
   "source": [
    "**Add or merge symbols:**"
   ]
  },
  {
   "cell_type": "markdown",
   "id": "79403a69-75d1-481e-bc6b-4ccaa66078d1",
   "metadata": {},
   "source": [
    "The method `self.aom(symbol, **kwargs)` adds the symbol if it is not yet in the database and otherwise merges the pandas representation of the symbol:"
   ]
  },
  {
   "cell_type": "code",
   "execution_count": 6,
   "id": "1334ae4a-771a-4f6b-a724-69f29f250c44",
   "metadata": {},
   "outputs": [
    {
     "data": {
      "text/plain": [
       "mySet\n",
       "0    2\n",
       "1    2\n",
       "2    1\n",
       "3    1\n",
       "4    1\n",
       "Name: myVar, dtype: int64"
      ]
     },
     "execution_count": 6,
     "metadata": {},
     "output_type": "execute_result"
    }
   ],
   "source": [
    "db.aom(pd.Series(2, index = db('mySet')[0:2], name = 'myVar')) # add or merge new values for the 'myVar' variable\n",
    "db('myVar') # the new values are used where it was supplied [0,1]"
   ]
  }
 ],
 "metadata": {
  "kernelspec": {
   "display_name": "Python 3 (ipykernel)",
   "language": "python",
   "name": "python3"
  },
  "language_info": {
   "codemirror_mode": {
    "name": "ipython",
    "version": 3
   },
   "file_extension": ".py",
   "mimetype": "text/x-python",
   "name": "python",
   "nbconvert_exporter": "python",
   "pygments_lexer": "ipython3",
   "version": "3.13.5"
  }
 },
 "nbformat": 4,
 "nbformat_minor": 5
}
