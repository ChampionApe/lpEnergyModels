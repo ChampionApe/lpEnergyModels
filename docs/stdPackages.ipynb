{
 "cells": [
  {
   "cell_type": "markdown",
   "id": "72928edd-7096-48f8-b239-f13dbcb22d35",
   "metadata": {},
   "source": [
    "*Run stdPackages in parent folder:*"
   ]
  },
  {
   "cell_type": "code",
   "execution_count": 1,
   "id": "1b21d219-2266-43f7-b121-7fcce0e83c01",
   "metadata": {},
   "outputs": [],
   "source": [
    "import os\n",
    "_repo = 'lpEnergyModels'\n",
    "_curr = os.getcwd()\n",
    "os.chdir(os.path.join(os.getcwd().split(_repo,1)[0], _repo))\n",
    "%run stdPackages.ipynb\n",
    "_d['curr'] = _curr"
   ]
  }
 ],
 "metadata": {
  "kernelspec": {
   "display_name": "Python 3 (ipykernel)",
   "language": "python",
   "name": "python3"
  },
  "language_info": {
   "codemirror_mode": {
    "name": "ipython",
    "version": 3
   },
   "file_extension": ".py",
   "mimetype": "text/x-python",
   "name": "python",
   "nbconvert_exporter": "python",
   "pygments_lexer": "ipython3",
   "version": "3.13.5"
  }
 },
 "nbformat": 4,
 "nbformat_minor": 5
}
