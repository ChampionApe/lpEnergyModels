{
 "cells": [
  {
   "cell_type": "code",
   "execution_count": 1,
   "id": "101260a2-3c52-4771-9a21-284163690f4b",
   "metadata": {},
   "outputs": [],
   "source": [
    "import os, numpy as np, scipy, pandas as pd\n",
    "from lpEnergyModels.mBasicInt import *\n",
    "import warnings\n",
    "warnings.simplefilter(action='ignore', category=FutureWarning)"
   ]
  },
  {
   "cell_type": "markdown",
   "id": "9451f864-d133-4978-b7ec-9f852a2a50bd",
   "metadata": {},
   "source": [
    "# MBasicPH class"
   ]
  },
  {
   "cell_type": "markdown",
   "id": "a850a607-1960-4346-83bc-04cdd47258c3",
   "metadata": {},
   "source": [
    "The model extends the ```MBasicInt``` model in the following ways:\n",
    "* We introduce geography and energy markets in the model. Because energy markets interact, but at different geographic scales, we do this by introducing a set of markets, ```idxE```. For each energy market, we define a geographic index ```idxG<market>```, and a mapping ```idxG2E``` defined over all the relevant geopgrahic indices that maps the different areas together; this is used to identify the connections between different areas and markets. "
   ]
  },
  {
   "cell_type": "markdown",
   "id": "f74be906-7b7a-4f25-85ed-c5db174c2479",
   "metadata": {},
   "source": [
    "**Sets:** The model is a very simple power system model that is defined over main indices:\n",
    "\n",
    "*From MBasic*\n",
    "* ```idxGen```: Set of electricity generators.\n",
    "* ```idxF```: Set of fuel types that generators may use.\n",
    "* ```idxEm```: Set of emission types included in the model.\n",
    "* ```idxCons```: Set of consumers in the power market.\n",
    "\n",
    "*New ones:*\n",
    "* ```idxHr```: Set of short run states (hours).\n",
    "* ```idxHVTGen```: Set of exogenous hourly variation paths, for generators.\n",
    "* ```idxHVTCons```: Set of exogenous hourly variation paths, for consumers."
   ]
  },
  {
   "cell_type": "markdown",
   "id": "6eb4a121-52e4-4cba-a06a-00dcbaf23e3e",
   "metadata": {},
   "source": [
    "**Variables:** The model requires the following data to run:\n",
    "\n",
    "*From MBasic*:\n",
    "* ```pFuel(idxF)```: Fuel price. Default unit: €/GJ.\n",
    "* ```uEm(idxF, idxEm)```: Emission intensity. Default unit: Ton emission/GJ fuel input. \n",
    "* ```VOM(idxGen)```: variable operating and maintenance costs. Default unit: €/GJ output.\n",
    "* ```uFuel(idxF, idxGen)```: Fuelmix. Default unit: GJ input/GJ output.\n",
    "* ```taxEm(idxEm)```: Tax on emissions. Default unit: €/ton emission output.\n",
    "* ```genCap(idxGen)```: Generating capacity. Default unit: GJ/hour.\n",
    "* ```mwp(idxCons)```: Marginal willingness to pay for consumers. Default unit: €/GJ. \n",
    "* ```load(idxCons)```: Total demand for consumers if the price does not exceed their marginal willingness to pay. Default unit: GJ.\n",
    "\n",
    "*New ones:*\n",
    "* ```uHrCap(idxHr, idxHVTGen)```: Parameter measuring how generating capacity varies over the year for variation type ```idxHVTGen```. Default unit: Hourly-to-maximum GJ/hour ratio. Generally, we expect ```uHrCap```$\\in[0,1]$ as it measures the scale of generating capacity in hour ```idxH``` relatively to installed effect (```genCap```).\n",
    "* ```uHrLoad(idxHr, idxHVTCons)```: Similar to ```uHrCap``` except this measures max load relative to peak demand throughout a year. \n",
    "\n",
    "Beyond this, ideally we would also add the following variables on the cost structure for generators (these are not required for solving the model, but for assessing cost-effectiveness afterwards):\n",
    "* ```FOM(idxGen)```: Fixed operating and maintenance costs. Default unit: (1000 €/(GJ/hour generating capacity)) / year.\n",
    "* ```INVC(idxGen)```: Annualized investment costs. Default unit: 1000 €/ (GJ/hour generating capacity) / year (annualized)."
   ]
  },
  {
   "cell_type": "markdown",
   "id": "c43a6fa1-e2c4-4e46-8075-886838844104",
   "metadata": {},
   "source": [
    "**Mappings:** In addition to new sets and parameters, we require mappings from generators and consumers to the relevant hourly patterns. These are defined as ```pd.MultiIndex``` instances over relevant sets:\n",
    "\n",
    "* ```idxGen2HVTGen(idxGen, idxHVTGen)```: Identifies what hourly variation pattern the specific generator follows. \n",
    "* ```idxCons2HVTCons(idxCons, idxHVTCons)```: Identifies hourly variation pattern specific demand component follows."
   ]
  }
 ],
 "metadata": {
  "kernelspec": {
   "display_name": "Python 3 (ipykernel)",
   "language": "python",
   "name": "python3"
  },
  "language_info": {
   "codemirror_mode": {
    "name": "ipython",
    "version": 3
   },
   "file_extension": ".py",
   "mimetype": "text/x-python",
   "name": "python",
   "nbconvert_exporter": "python",
   "pygments_lexer": "ipython3",
   "version": "3.11.8"
  }
 },
 "nbformat": 4,
 "nbformat_minor": 5
}
