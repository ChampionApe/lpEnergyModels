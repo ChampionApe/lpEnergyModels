{
 "cells": [
  {
   "cell_type": "code",
   "execution_count": 1,
   "id": "79ddfa7e-7ebd-4a6e-a893-a1566ac104a5",
   "metadata": {},
   "outputs": [],
   "source": [
    "import os, numpy as np, scipy, pandas as pd\n",
    "from lpEnergyModels.mBasicInt import *\n",
    "import warnings\n",
    "warnings.simplefilter(action='ignore', category=FutureWarning)"
   ]
  },
  {
   "cell_type": "markdown",
   "id": "f1e7ec65-8611-4805-83e8-0d7d3424a954",
   "metadata": {},
   "source": [
    "# MBasicInt class"
   ]
  },
  {
   "cell_type": "markdown",
   "id": "f04fccb5-26aa-4b45-b92b-9a8b098b348b",
   "metadata": {},
   "source": [
    "**Sets:** The model is a very simple power system model that is defined over main indices:\n",
    "\n",
    "*From MBasic*\n",
    "* ```idxGen```: Set of electricity generators.\n",
    "* ```idxF```: Set of fuel types that generators may use.\n",
    "* ```idxEm```: Set of emission types included in the model.\n",
    "* ```idxCons```: Set of consumers in the power market.\n",
    "\n",
    "*New ones:*\n",
    "* ```idxHr```: Set of short run states (hours).\n",
    "* ```idxHVTGen```: Set of exogenous hourly variation paths, for generators.\n",
    "* ```idxHVTCons```: Set of exogenous hourly variation paths, for consumers."
   ]
  },
  {
   "cell_type": "markdown",
   "id": "9aacd099-8fb2-4b6f-b4f3-3859f310f20c",
   "metadata": {},
   "source": [
    "**Variables:** The model requires the following data to run:\n",
    "\n",
    "*From MBasic*:\n",
    "* ```pFuel(idxF)```: Fuel price. Default unit: €/GJ.\n",
    "* ```uEm(idxF, idxEm)```: Emission intensity. Default unit: Ton emission/GJ fuel input. \n",
    "* ```VOM(idxGen)```: variable operating and maintenance costs. Default unit: €/GJ output.\n",
    "* ```uFuel(idxF, idxGen)```: Fuelmix. Default unit: GJ input/GJ output.\n",
    "* ```taxEm(idxEm)```: Tax on emissions. Default unit: €/ton emission output.\n",
    "* ```genCap(idxGen)```: Generating capacity. Default unit: GJ/hour.\n",
    "* ```mwp(idxCons)```: Marginal willingness to pay for consumers. Default unit: €/GJ. \n",
    "* ```load(idxCons)```: Total demand for consumers if the price does not exceed their marginal willingness to pay. Default unit: GJ.\n",
    "\n",
    "*New ones:*\n",
    "* ```uHrCap(idxHr, idxHVTGen)```: Parameter measuring how generating capacity varies over the year for variation type ```idxHVTGen```. Default unit: Hourly-to-maximum GJ/hour ratio. Generally, we expect ```uHrCap```$\\in[0,1]$ as it measures the scale of generating capacity in hour ```idxH``` relatively to installed effect (```genCap```).\n",
    "* ```uHrLoad(idxHr, idxHVTCons)```: Similar to ```uHrCap``` except this measures max load relative to peak demand throughout a year. \n",
    "\n",
    "Beyond this, ideally we would also add the following variables on the cost structure for generators (these are not required for solving the model, but for assessing cost-effectiveness afterwards):\n",
    "* ```FOM(idxGen)```: Fixed operating and maintenance costs. Default unit: (1000 €/(GJ/hour generating capacity)) / year.\n",
    "* ```INVC(idxGen)```: Annualized investment costs. Default unit: 1000 €/ (GJ/hour generating capacity) / year (annualized)."
   ]
  },
  {
   "cell_type": "markdown",
   "id": "50472b38-f727-450f-8cc0-7c8edd3c57b6",
   "metadata": {},
   "source": [
    "**Mappings:** In addition to new sets and parameters, we require mappings from generators and consumers to the relevant hourly patterns. These are defined as ```pd.MultiIndex``` instances over relevant sets:\n",
    "\n",
    "* ```idxGen2HVTGen(idxGen, idxHVTGen)```: Identifies what hourly variation pattern the specific generator follows. \n",
    "* ```idxCons2HVTCons(idxCons, idxHVTCons)```: Identifies hourly variation pattern specific demand component follows."
   ]
  },
  {
   "cell_type": "code",
   "execution_count": 2,
   "id": "9c98cdf5-0f01-402b-b10c-4d10820055ab",
   "metadata": {},
   "outputs": [],
   "source": [
    "testData = os.path.join(os.getcwd(), 'data','EX_MBasicInt_CA.xlsx')\n",
    "data = ExcelSymbolLoader(testData)() # read data in a dict \n",
    "m = MBasicInt() # initialize model\n",
    "[m.db.__setitem__(k, v) for k,v in data.items() if k!='__meta__']; # add data to model database"
   ]
  },
  {
   "cell_type": "markdown",
   "id": "53ebdbba-2c21-42b5-970a-e695be0eea32",
   "metadata": {},
   "source": [
    "*Test run:*"
   ]
  },
  {
   "cell_type": "code",
   "execution_count": 3,
   "id": "266be6a6-3752-44ca-bf92-d7a547514b9b",
   "metadata": {},
   "outputs": [],
   "source": [
    "m.compile() # set up model structure\n",
    "sol = m.solve() # return solution\n",
    "solDict = m.postSolve(sol) # run through postSolve routine"
   ]
  },
  {
   "cell_type": "markdown",
   "id": "61f1be86-6119-4424-96ea-a9594e7a9f36",
   "metadata": {},
   "source": [
    "## Extension with emission cap"
   ]
  },
  {
   "cell_type": "markdown",
   "id": "1fc5787d-2699-478f-b641-98f2c2c4f0c6",
   "metadata": {},
   "source": [
    "Initialize model:"
   ]
  },
  {
   "cell_type": "code",
   "execution_count": 4,
   "id": "17b0db6f-5f1b-4f1a-aaf4-3c320095a92a",
   "metadata": {},
   "outputs": [],
   "source": [
    "mEmCap = MBasicIntEmCap(db = m.db) # initialize model, use model database from above"
   ]
  },
  {
   "cell_type": "markdown",
   "id": "d35c38b2-cc78-432a-bbbf-22fa11684317",
   "metadata": {},
   "source": [
    "Cap emissions at 50% of baseline levels:"
   ]
  },
  {
   "cell_type": "code",
   "execution_count": 5,
   "id": "815262e4-9326-4cb1-be3a-d622b895ced7",
   "metadata": {},
   "outputs": [],
   "source": [
    "mEmCap.db['emCap'] = .5 * pdSum(solDict['emissions'], 'idxHr') / mEmCap.scale"
   ]
  },
  {
   "cell_type": "markdown",
   "id": "124531f7-9ceb-4488-9ffa-51e5fdc15b59",
   "metadata": {},
   "source": [
    "Solve:"
   ]
  },
  {
   "cell_type": "code",
   "execution_count": 6,
   "id": "0fdd17ca-e72f-45e0-8eda-ae73e5e78935",
   "metadata": {},
   "outputs": [],
   "source": [
    "mEmCap.compile() # set up model structure\n",
    "solEmCap = mEmCap.solve() # return solution\n",
    "solDictEmCap = mEmCap.postSolve(solEmCap) # run through postSolve routine"
   ]
  },
  {
   "cell_type": "markdown",
   "id": "84b4bcc7-bdf4-43dc-9c50-0fa5f73076a1",
   "metadata": {},
   "source": [
    "## Extension with target for renewable energy share"
   ]
  },
  {
   "cell_type": "code",
   "execution_count": 7,
   "id": "c53883b6-b526-404a-8301-d5ea575fc7da",
   "metadata": {},
   "outputs": [],
   "source": [
    "mRES = MBasicIntRES(db = m.db)"
   ]
  },
  {
   "cell_type": "markdown",
   "id": "70a06b53-a0b4-4783-97c2-ebdae423dfb7",
   "metadata": {},
   "source": [
    "Add target for share of renewables:"
   ]
  },
  {
   "cell_type": "code",
   "execution_count": 8,
   "id": "7fd07467-02ca-4f01-b68e-c0de46a300e2",
   "metadata": {},
   "outputs": [],
   "source": [
    "mRES.db['RESCap'] = .8"
   ]
  },
  {
   "cell_type": "markdown",
   "id": "189636c0-6324-4be3-925b-cd78c5153db0",
   "metadata": {},
   "source": [
    "Solve:"
   ]
  },
  {
   "cell_type": "code",
   "execution_count": 9,
   "id": "59efc647-b668-41f3-adbe-41789f3587a6",
   "metadata": {},
   "outputs": [],
   "source": [
    "mRES.compile() # set up model structure\n",
    "solRES = mRES.solve() # return solution\n",
    "solDictRES = mRES.postSolve(solRES) # run through postSolve routine"
   ]
  }
 ],
 "metadata": {
  "kernelspec": {
   "display_name": "Python 3 (ipykernel)",
   "language": "python",
   "name": "python3"
  },
  "language_info": {
   "codemirror_mode": {
    "name": "ipython",
    "version": 3
   },
   "file_extension": ".py",
   "mimetype": "text/x-python",
   "name": "python",
   "nbconvert_exporter": "python",
   "pygments_lexer": "ipython3",
   "version": "3.13.5"
  }
 },
 "nbformat": 4,
 "nbformat_minor": 5
}
